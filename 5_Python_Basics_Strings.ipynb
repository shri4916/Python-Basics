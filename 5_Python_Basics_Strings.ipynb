{
  "nbformat": 4,
  "nbformat_minor": 0,
  "metadata": {
    "colab": {
      "name": "5_Python_Basics_Strings.ipynb",
      "provenance": [],
      "collapsed_sections": [],
      "authorship_tag": "ABX9TyPpCa7M44yY+UzeTJHVuk/a",
      "include_colab_link": true
    },
    "kernelspec": {
      "name": "python3",
      "display_name": "Python 3"
    },
    "language_info": {
      "name": "python"
    }
  },
  "cells": [
    {
      "cell_type": "markdown",
      "metadata": {
        "id": "view-in-github",
        "colab_type": "text"
      },
      "source": [
        "<a href=\"https://colab.research.google.com/github/shri4916/Python-Basics/blob/main/5_Python_Basics_Strings.ipynb\" target=\"_parent\"><img src=\"https://colab.research.google.com/assets/colab-badge.svg\" alt=\"Open In Colab\"/></a>"
      ]
    },
    {
      "cell_type": "markdown",
      "source": [
        "# **String**\n",
        "\n",
        "1) Any sequence of characters within either single quotes or double quotes is considered as a String.\n",
        "\n",
        "2) We can define multi-line String literals by using triple single or double quotes.\n",
        "\n",
        "3) We can also use triple quotes to use single quotes or double quotes as symbol inside String literal"
      ],
      "metadata": {
        "id": "-xnXVY6LrT7S"
      }
    },
    {
      "cell_type": "code",
      "execution_count": 3,
      "metadata": {
        "colab": {
          "base_uri": "https://localhost:8080/"
        },
        "id": "yv0kVfrBq_SH",
        "outputId": "8a972266-c943-4fcd-a544-0a7ae37f6864"
      },
      "outputs": [
        {
          "output_type": "stream",
          "name": "stdout",
          "text": [
            "shri\n",
            "Niwas\n",
            " shri\n",
            "niwas\n",
            "shri\n",
            "niwas\n",
            "shri \"niwas\" \n",
            "shri 'niwas' a\n",
            "shri \"niwas\" b\n",
            "shri Niwas  shri\n",
            "niwas shri\n",
            "niwas shri \"niwas\"  shri 'niwas' a shri \"niwas\" b\n"
          ]
        }
      ],
      "source": [
        "a = 'shri'\n",
        "b = \"Niwas\"\n",
        "c = \"\"\" shri\n",
        "niwas\"\"\"\n",
        "d = '''shri\n",
        "niwas'''\n",
        "#e = '''shri 'niwas''''\n",
        "f = \"\"\"shri \"niwas\" \"\"\"\n",
        "g = '''shri 'niwas' a'''\n",
        "h = \"\"\"shri \"niwas\" b\"\"\"\n",
        "print (a)\n",
        "print (b)\n",
        "print (c)\n",
        "print (d)\n",
        "#print (e)\n",
        "print (f)\n",
        "print (g)\n",
        "print (h)\n",
        "print (a,b,c,d,f,g,h)\n",
        "\n"
      ]
    },
    {
      "cell_type": "markdown",
      "source": [
        "# **How to access characters of a string?**\n",
        "We can access characters of a string by using the following ways.\n",
        "\n",
        "1) By using index\n",
        "\n",
        "2) By using slice operator"
      ],
      "metadata": {
        "id": "1EDP4rBcskeW"
      }
    },
    {
      "cell_type": "code",
      "source": [
        "print(a[0])\n",
        "print(a[2])\n",
        "print(a[-2])\n",
        "print (a[:])\n",
        "print(a[:3])\n",
        "print (a[1:])\n",
        "print (a[1::2])\n",
        "print (a[::2])"
      ],
      "metadata": {
        "colab": {
          "base_uri": "https://localhost:8080/"
        },
        "id": "7ePydFi-sIa5",
        "outputId": "b9c90a08-c708-454d-a80c-5e188b3df0e7"
      },
      "execution_count": 7,
      "outputs": [
        {
          "output_type": "stream",
          "name": "stdout",
          "text": [
            "s\n",
            "r\n",
            "r\n",
            "shri\n",
            "shr\n",
            "hri\n",
            "hi\n"
          ]
        }
      ]
    },
    {
      "cell_type": "code",
      "source": [
        "# 2. Accessing characters by using slice operator\n",
        "#  Syntax: s[begin index : end index : step]\n",
        "s=\"Learning Python is very very easy!!!\"\n",
        "print (s[4:10:1])\n",
        "print (s[::])\n",
        "print (s[::-1])\n",
        "print (s[234:13:-1])\n",
        "print (len(s))\n",
        "print (type(s))"
      ],
      "metadata": {
        "colab": {
          "base_uri": "https://localhost:8080/"
        },
        "id": "hicFOPMnuv-o",
        "outputId": "f1949461-628d-497b-ba90-0007a3c91896"
      },
      "execution_count": 10,
      "outputs": [
        {
          "output_type": "stream",
          "name": "stdout",
          "text": [
            "ning P\n",
            "Learning Python is very very easy!!!\n",
            "!!!ysae yrev yrev si nohtyP gninraeL\n",
            "!!!ysae yrev yrev si n\n",
            "36\n",
            "<class 'str'>\n"
          ]
        }
      ]
    },
    {
      "cell_type": "markdown",
      "source": [
        "**Q)Write a Program to access each Character of String in Forward and Backward Direction by using while Loop?**"
      ],
      "metadata": {
        "id": "Nh9qR63ovtJd"
      }
    },
    {
      "cell_type": "code",
      "source": [
        "e = \"shriniwas\"\n",
        "l = len(e)\n",
        "i = 0\n",
        "while i<l:\n",
        "  print (e[i],end='')\n",
        "  i += 1\n",
        "print()\n",
        "ind2 = -1\n",
        "while ind2>=-l:\n",
        "  print (e[ind2],end='')\n",
        "  ind2 -= 1"
      ],
      "metadata": {
        "colab": {
          "base_uri": "https://localhost:8080/"
        },
        "id": "N2_ki1Sdvusf",
        "outputId": "341552f8-e980-4852-e210-5b344920e24f"
      },
      "execution_count": 23,
      "outputs": [
        {
          "output_type": "stream",
          "name": "stdout",
          "text": [
            "shriniwas\n",
            "sawinirhs"
          ]
        }
      ]
    },
    {
      "cell_type": "markdown",
      "source": [
        "## **Checking Membership:**\n",
        "We can check whether the character or string is the member of another string or not by using in and not in operators."
      ],
      "metadata": {
        "id": "oWRQwMxBy6Yf"
      }
    },
    {
      "cell_type": "code",
      "source": [
        "q = 'shriniwas'\n",
        "print('shri' in q)\n",
        "print('ram' in q)\n",
        "print('ri' in q)\n",
        "print('swai' in q)"
      ],
      "metadata": {
        "colab": {
          "base_uri": "https://localhost:8080/"
        },
        "id": "LH0XfA2Ry80w",
        "outputId": "6bd51ede-76de-4b3f-bb91-e53c9a9c15a4"
      },
      "execution_count": 25,
      "outputs": [
        {
          "output_type": "stream",
          "name": "stdout",
          "text": [
            "True\n",
            "False\n",
            "True\n",
            "False\n"
          ]
        }
      ]
    },
    {
      "cell_type": "markdown",
      "source": [
        "# **Comparison of Strings**\n",
        "We can use comparison operators (<, <=, >, >=) and equality operators (==, !=) for strings.\n",
        "\n",
        "it dose not compare the leangh of string\n",
        "\n",
        "It compares the characters in string Ex - B is greater than A"
      ],
      "metadata": {
        "id": "kiW-D6ML0uC-"
      }
    },
    {
      "cell_type": "code",
      "source": [
        "s1 = \"shri\"\n",
        "s2 = \"niwas\"\n",
        "if s1==s2:\n",
        "  print(\"Both strings are equal\")\n",
        "elif s1<s2:                                                                                            \n",
        "  print(\"First String is short\")\n",
        "else:\n",
        "  print(\"First String is long\")"
      ],
      "metadata": {
        "colab": {
          "base_uri": "https://localhost:8080/"
        },
        "id": "BDVuWnbY0y9p",
        "outputId": "4d53eb8c-173d-46ee-9e4e-c968cb88e55e"
      },
      "execution_count": 35,
      "outputs": [
        {
          "output_type": "stream",
          "name": "stdout",
          "text": [
            "First String is long\n"
          ]
        }
      ]
    },
    {
      "cell_type": "markdown",
      "source": [
        "**Removing Spaces from the String:**\n",
        "\n",
        "1)rstrip()-->To remove spaces at right hand side.\n",
        "\n",
        "2) lstrip()--> To remove spaces at left hand side.\n",
        "\n",
        "3) strip()-->To remove spaces both sides."
      ],
      "metadata": {
        "id": "14EXrcOm42DW"
      }
    },
    {
      "cell_type": "code",
      "source": [
        "f = \" ndsf \"\n",
        "print(f.strip())\n",
        "print(f.rstrip())\n",
        "print(f.lstrip())"
      ],
      "metadata": {
        "colab": {
          "base_uri": "https://localhost:8080/"
        },
        "id": "vMiLW5f0488Y",
        "outputId": "29f5744c-976c-4798-c852-a54433c6484a"
      },
      "execution_count": 30,
      "outputs": [
        {
          "output_type": "stream",
          "name": "stdout",
          "text": [
            "ndsf\n",
            " ndsf\n",
            "ndsf \n"
          ]
        }
      ]
    },
    {
      "cell_type": "markdown",
      "source": [
        "**Finding Substrings:**\n",
        "\n",
        "We can use the following 4 methods\n",
        "\n",
        "For forward direction:\n",
        "\n",
        "1) find()\n",
        "\n",
        "2) index()\n",
        "\n",
        "For backward direction:\n",
        "\n",
        "1) rfind()\n",
        "\n",
        "2) rindex()"
      ],
      "metadata": {
        "id": "_XiFIHr37FB9"
      }
    },
    {
      "cell_type": "code",
      "source": [
        "# find():\n",
        "# Returns index of first occurrence of the given substring. If it is not available then we will get -1.\n",
        "\n",
        "s=\" data \"\n",
        "print(s.find(\"ata\")) #1st index\n",
        "print(s.find('a',3,5))\n",
        "print(s.find(' ',2,7))\n",
        "print(s.find(\" \"))\n",
        "print(s.find(\"s\"))"
      ],
      "metadata": {
        "colab": {
          "base_uri": "https://localhost:8080/"
        },
        "id": "sHY6Tj4U7Knw",
        "outputId": "c81b9aa0-875c-42c0-d56e-ecf40f313a78"
      },
      "execution_count": 42,
      "outputs": [
        {
          "output_type": "stream",
          "name": "stdout",
          "text": [
            "2\n",
            "4\n",
            "5\n",
            "0\n",
            "-1\n"
          ]
        }
      ]
    },
    {
      "cell_type": "code",
      "source": [
        ""
      ],
      "metadata": {
        "id": "x-hZBbTX70fg"
      },
      "execution_count": null,
      "outputs": []
    }
  ]
}