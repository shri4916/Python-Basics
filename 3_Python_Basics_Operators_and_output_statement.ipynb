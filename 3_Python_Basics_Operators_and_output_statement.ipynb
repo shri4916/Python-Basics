{
  "nbformat": 4,
  "nbformat_minor": 0,
  "metadata": {
    "colab": {
      "name": "3_Python_Basics_Operators_and_output_statement.ipynb",
      "provenance": [],
      "collapsed_sections": [],
      "authorship_tag": "ABX9TyNv+wGv5Vj6x2CsgCt54kfH",
      "include_colab_link": true
    },
    "kernelspec": {
      "name": "python3",
      "display_name": "Python 3"
    },
    "language_info": {
      "name": "python"
    }
  },
  "cells": [
    {
      "cell_type": "markdown",
      "metadata": {
        "id": "view-in-github",
        "colab_type": "text"
      },
      "source": [
        "<a href=\"https://colab.research.google.com/github/shri4916/Python-Basics/blob/main/3_Python_Basics_Operators_and_output_statement.ipynb\" target=\"_parent\"><img src=\"https://colab.research.google.com/assets/colab-badge.svg\" alt=\"Open In Colab\"/></a>"
      ]
    },
    {
      "cell_type": "markdown",
      "source": [
        "# **Opraters**\n",
        "We user operaters to perform oprations in python"
      ],
      "metadata": {
        "id": "ubZ2bo1WoHP1"
      }
    },
    {
      "cell_type": "markdown",
      "source": [
        "#**Arithmatic Operater**\n",
        "\n",
        "Let us start with arithmatic opraters \n",
        "\n",
        "It has all the mathematical operaters \n",
        "\n",
        "Ex \n",
        "1) Addition (+)\n",
        "\n",
        "2) Substraction (-)\n",
        "\n",
        "3) Division (/)\n",
        "\n",
        "4) Multiplication (*)\n",
        "\n",
        "5) Modulo operater (%) - to find reminder\n",
        "\n",
        "6) Flore division operater (//) - to find lower intiger of given division (Float) value\n",
        "\n",
        "7) Exponent or power operater (**) - to find raise to value "
      ],
      "metadata": {
        "id": "zlJ-UO20oFAD"
      }
    },
    {
      "cell_type": "code",
      "source": [
        "a= 14\n",
        "b = 5\n",
        "print (\"Value of a : \",a)\n",
        "print (\"Value of a : \",b)\n",
        "print (\"a+b : \", a+b)\n",
        "print (\"a-b : \", a-b)\n",
        "print (\"a*b : \", a*b)\n",
        "print (\"a/b : \", a/b)\n",
        "print (\"a%b : \", a%b)\n",
        "print (\"a//b : \", a//b)\n",
        "print (\"a**b : \", a**b)\n"
      ],
      "metadata": {
        "colab": {
          "base_uri": "https://localhost:8080/"
        },
        "id": "1j1f02L0qB0M",
        "outputId": "31e07eb1-2b98-400f-8534-b362923adf19"
      },
      "execution_count": 3,
      "outputs": [
        {
          "output_type": "stream",
          "name": "stdout",
          "text": [
            "Value of a :  14\n",
            "Value of a :  5\n",
            "a+b :  19\n",
            "a-b :  9\n",
            "a*b :  70\n",
            "a/b :  2.8\n",
            "a%b :  4\n",
            "a//b :  2\n",
            "a**b :  537824\n"
          ]
        }
      ]
    },
    {
      "cell_type": "markdown",
      "source": [
        "#Relation Operater\n",
        "\n",
        "This operaters are used to compare values in Python\n",
        "\n",
        "1) Greater than - \">\"\n",
        "\n",
        "1) Greater than or equal to - \">=\"\n",
        "\n",
        "1) Lower than - \"<\"\n",
        "\n",
        "1) Lower than or equal to - \"<=\""
      ],
      "metadata": {
        "id": "vzLXRUHcr3Yn"
      }
    },
    {
      "cell_type": "code",
      "source": [
        "a= 5\n",
        "b = 10\n",
        "print (\"a>b : \", a>b)\n",
        "print (\"a>=b : \", a>=b)\n",
        "print (\"a<b : \", a<b)\n",
        "print (\"a<=b : \", a<=b)"
      ],
      "metadata": {
        "colab": {
          "base_uri": "https://localhost:8080/"
        },
        "id": "pQ3dxsGpq-Ut",
        "outputId": "da411bda-f157-46b9-b852-f6a1261d7add"
      },
      "execution_count": 4,
      "outputs": [
        {
          "output_type": "stream",
          "name": "stdout",
          "text": [
            "a>b :  False\n",
            "a>=b :  False\n",
            "a<b :  True\n",
            "a<=b :  True\n"
          ]
        }
      ]
    },
    {
      "cell_type": "markdown",
      "source": [
        "#**Equality Operater**\n",
        "\n",
        "It is used to compare values equal to or not equal too \n",
        "\n",
        "1) Equal to - \"==\"\n",
        "\n",
        "2) Not equal to - \"!=\""
      ],
      "metadata": {
        "id": "WnO80DHHr1xh"
      }
    },
    {
      "cell_type": "code",
      "source": [
        "#check whether 2 ints are equal \n",
        "10==20"
      ],
      "metadata": {
        "colab": {
          "base_uri": "https://localhost:8080/"
        },
        "id": "yUDQq67BttYl",
        "outputId": "1b01a020-b735-46d5-ec01-6b9fc9293766"
      },
      "execution_count": 5,
      "outputs": [
        {
          "output_type": "execute_result",
          "data": {
            "text/plain": [
              "False"
            ]
          },
          "metadata": {},
          "execution_count": 5
        }
      ]
    },
    {
      "cell_type": "code",
      "source": [
        "#Check whether an int and float are matching \n",
        "10 == True"
      ],
      "metadata": {
        "colab": {
          "base_uri": "https://localhost:8080/"
        },
        "id": "7rMklJPGt6X8",
        "outputId": "2b2a5cb6-b6f5-491e-be29-3f05433d8714"
      },
      "execution_count": 6,
      "outputs": [
        {
          "output_type": "execute_result",
          "data": {
            "text/plain": [
              "False"
            ]
          },
          "metadata": {},
          "execution_count": 6
        }
      ]
    },
    {
      "cell_type": "code",
      "source": [
        "#Check whether 2 values are not matching\n",
        "10 != 20"
      ],
      "metadata": {
        "colab": {
          "base_uri": "https://localhost:8080/"
        },
        "id": "YoTtJHVXuFLH",
        "outputId": "2c3ac330-960c-43e3-f1c6-6f74c007fb91"
      },
      "execution_count": 7,
      "outputs": [
        {
          "output_type": "execute_result",
          "data": {
            "text/plain": [
              "True"
            ]
          },
          "metadata": {},
          "execution_count": 7
        }
      ]
    },
    {
      "cell_type": "code",
      "source": [
        "# Check whether multiple values are matching \n",
        "10 == 10 == 10"
      ],
      "metadata": {
        "colab": {
          "base_uri": "https://localhost:8080/"
        },
        "id": "Q1pNX0RIuWsX",
        "outputId": "88ffe00a-bb60-496a-f748-eff8dc3100c6"
      },
      "execution_count": 8,
      "outputs": [
        {
          "output_type": "execute_result",
          "data": {
            "text/plain": [
              "True"
            ]
          },
          "metadata": {},
          "execution_count": 8
        }
      ]
    },
    {
      "cell_type": "code",
      "source": [
        "# Check wther 2 boolian values are matching \n",
        "True == True"
      ],
      "metadata": {
        "colab": {
          "base_uri": "https://localhost:8080/"
        },
        "id": "tvAjS2-Kungi",
        "outputId": "69a86750-91d4-4acc-9f24-80eb5abd5ba5"
      },
      "execution_count": 10,
      "outputs": [
        {
          "output_type": "execute_result",
          "data": {
            "text/plain": [
              "True"
            ]
          },
          "metadata": {},
          "execution_count": 10
        }
      ]
    },
    {
      "cell_type": "markdown",
      "source": [
        "#**Logical Operater**\n",
        "\n",
        "Logical operaters are used to put condition and get desired results\n",
        "\n",
        "**For Boolian**\n",
        "\n",
        "1) And Operater (and) - It will be true when both the values are true\n",
        "\n",
        "2) Or operater (or) - It will be true when one of the value is true\n",
        "\n",
        "3) Not Operater (not) - It is complimentary operater \n",
        "\n",
        "**For Non Boolian**\n",
        "\n",
        "1) in **x and y** if condition is **false**, return x, if **true** return y \n"
      ],
      "metadata": {
        "id": "tIEX4tyGvZ2E"
      }
    },
    {
      "cell_type": "markdown",
      "source": [
        "**And Operaters**\n",
        "\n",
        "1) in **x and y** if condition is **false**, return x, if **true** return y "
      ],
      "metadata": {
        "id": "zgigE5-u1YZL"
      }
    },
    {
      "cell_type": "code",
      "source": [
        "10 and 20"
      ],
      "metadata": {
        "colab": {
          "base_uri": "https://localhost:8080/"
        },
        "id": "ojJnT1-JvPD7",
        "outputId": "362f2020-7546-468b-bca4-31e1a1c2744a"
      },
      "execution_count": 11,
      "outputs": [
        {
          "output_type": "execute_result",
          "data": {
            "text/plain": [
              "20"
            ]
          },
          "metadata": {},
          "execution_count": 11
        }
      ]
    },
    {
      "cell_type": "code",
      "source": [
        "# and bitween two boolian values \n",
        "True and True"
      ],
      "metadata": {
        "colab": {
          "base_uri": "https://localhost:8080/"
        },
        "id": "h-i7kaUUyYtr",
        "outputId": "94f4d3de-1bc6-4210-d0be-428551b1eb3f"
      },
      "execution_count": 14,
      "outputs": [
        {
          "output_type": "execute_result",
          "data": {
            "text/plain": [
              "True"
            ]
          },
          "metadata": {},
          "execution_count": 14
        }
      ]
    },
    {
      "cell_type": "code",
      "source": [
        "True and False"
      ],
      "metadata": {
        "colab": {
          "base_uri": "https://localhost:8080/"
        },
        "id": "Wd_5jKdlycAs",
        "outputId": "f28f3f1c-3be2-44f9-da2b-1b1511221ecd"
      },
      "execution_count": 15,
      "outputs": [
        {
          "output_type": "execute_result",
          "data": {
            "text/plain": [
              "False"
            ]
          },
          "metadata": {},
          "execution_count": 15
        }
      ]
    },
    {
      "cell_type": "code",
      "source": [
        "# 0 is considered false \n",
        "\n",
        "0 and 21"
      ],
      "metadata": {
        "colab": {
          "base_uri": "https://localhost:8080/"
        },
        "id": "iAaiDaN2zCQl",
        "outputId": "349230f3-3ac8-42af-adf1-ccf5b4a47427"
      },
      "execution_count": 16,
      "outputs": [
        {
          "output_type": "execute_result",
          "data": {
            "text/plain": [
              "0"
            ]
          },
          "metadata": {},
          "execution_count": 16
        }
      ]
    },
    {
      "cell_type": "markdown",
      "source": [
        "**OR Operaters**\n",
        "\n",
        "1) in **x and y** if condition is **True**, return x, if **False** return y "
      ],
      "metadata": {
        "id": "uxp5Dg2o1dfw"
      }
    },
    {
      "cell_type": "code",
      "source": [
        "#OR Operater for non boolian value \n",
        "10 or 20"
      ],
      "metadata": {
        "colab": {
          "base_uri": "https://localhost:8080/"
        },
        "id": "iaSt_uH9zJXx",
        "outputId": "19145865-dbfb-475d-e40d-434b5ef2ae44"
      },
      "execution_count": 18,
      "outputs": [
        {
          "output_type": "execute_result",
          "data": {
            "text/plain": [
              "10"
            ]
          },
          "metadata": {},
          "execution_count": 18
        }
      ]
    },
    {
      "cell_type": "code",
      "source": [
        "0 or 3"
      ],
      "metadata": {
        "colab": {
          "base_uri": "https://localhost:8080/"
        },
        "id": "TFc_eHs01ilP",
        "outputId": "5f654231-f100-4bf7-aea7-7f517ed2df33"
      },
      "execution_count": 19,
      "outputs": [
        {
          "output_type": "execute_result",
          "data": {
            "text/plain": [
              "3"
            ]
          },
          "metadata": {},
          "execution_count": 19
        }
      ]
    },
    {
      "cell_type": "code",
      "source": [
        "True or True"
      ],
      "metadata": {
        "colab": {
          "base_uri": "https://localhost:8080/"
        },
        "id": "zcnEtZdV2S0h",
        "outputId": "b4b204ed-4ec3-467d-b1f1-cfd373a43a63"
      },
      "execution_count": 20,
      "outputs": [
        {
          "output_type": "execute_result",
          "data": {
            "text/plain": [
              "True"
            ]
          },
          "metadata": {},
          "execution_count": 20
        }
      ]
    },
    {
      "cell_type": "code",
      "source": [
        "True or False"
      ],
      "metadata": {
        "colab": {
          "base_uri": "https://localhost:8080/"
        },
        "id": "o1S-ByY42n9t",
        "outputId": "418abb63-dadc-4208-ebe7-a061b2de1fd2"
      },
      "execution_count": 21,
      "outputs": [
        {
          "output_type": "execute_result",
          "data": {
            "text/plain": [
              "True"
            ]
          },
          "metadata": {},
          "execution_count": 21
        }
      ]
    },
    {
      "cell_type": "code",
      "source": [
        "False or True"
      ],
      "metadata": {
        "colab": {
          "base_uri": "https://localhost:8080/"
        },
        "id": "VnVNCdC52puH",
        "outputId": "1b975e0e-08f9-492e-b707-e126294bbec8"
      },
      "execution_count": 22,
      "outputs": [
        {
          "output_type": "execute_result",
          "data": {
            "text/plain": [
              "True"
            ]
          },
          "metadata": {},
          "execution_count": 22
        }
      ]
    },
    {
      "cell_type": "code",
      "source": [
        "False or False"
      ],
      "metadata": {
        "colab": {
          "base_uri": "https://localhost:8080/"
        },
        "id": "t_vUPeG42sCv",
        "outputId": "d31be6b5-3833-49dc-be7a-67e7875b53ef"
      },
      "execution_count": 23,
      "outputs": [
        {
          "output_type": "execute_result",
          "data": {
            "text/plain": [
              "False"
            ]
          },
          "metadata": {},
          "execution_count": 23
        }
      ]
    },
    {
      "cell_type": "markdown",
      "source": [
        "### **Not Operater**\n",
        "\n",
        "It is used for complementary \n",
        "\n",
        "When **not** is appliedd to **True**, ans willl be **False** \n",
        "\n",
        "When **not** is appliedd to **False**, ans willl be **True**"
      ],
      "metadata": {
        "id": "0b52xzwC7U6p"
      }
    },
    {
      "cell_type": "code",
      "source": [
        "not 0"
      ],
      "metadata": {
        "colab": {
          "base_uri": "https://localhost:8080/"
        },
        "id": "F5FrGh15738I",
        "outputId": "0612dff0-30d5-4a9f-cb9b-ee6f39d5166e"
      },
      "execution_count": 24,
      "outputs": [
        {
          "output_type": "execute_result",
          "data": {
            "text/plain": [
              "True"
            ]
          },
          "metadata": {},
          "execution_count": 24
        }
      ]
    },
    {
      "cell_type": "code",
      "source": [
        "not 1"
      ],
      "metadata": {
        "colab": {
          "base_uri": "https://localhost:8080/"
        },
        "id": "-O5a8o1C8X6m",
        "outputId": "95ebcfe4-fea1-4f10-9269-fa9e86de3bcc"
      },
      "execution_count": 25,
      "outputs": [
        {
          "output_type": "execute_result",
          "data": {
            "text/plain": [
              "False"
            ]
          },
          "metadata": {},
          "execution_count": 25
        }
      ]
    },
    {
      "cell_type": "markdown",
      "source": [
        "#**Bitwise Operaters**\n",
        "\n",
        "Examples are\n",
        "\n",
        "1) & - And Operater -> If both bits are 1 then only result is 1 otherwise result is 0\n",
        "\n",
        "2) | - OR Operater -> If atleast one bit is 1 then result is 1 otherwise result is 0\n",
        "\n",
        "3) ^ -> If bits are different then only result is 1 otherwise result is 0\n",
        "\n",
        "4) ~ - Not Operater -> bitwise complement operator\n",
        "\n",
        "5) << - Bitwise Left Shift\n",
        "\n",
        "6) >> - Bitwise Right Shift\n",
        "\n",
        "It is applicable only for Int and boolian"
      ],
      "metadata": {
        "id": "07YRa1oO3Hal"
      }
    },
    {
      "cell_type": "code",
      "source": [
        "# & operater \n",
        "print (4&5)"
      ],
      "metadata": {
        "colab": {
          "base_uri": "https://localhost:8080/"
        },
        "id": "wEk-t-zb20pO",
        "outputId": "7bbe65e0-8186-4b27-e335-ace7cc406b3a"
      },
      "execution_count": 30,
      "outputs": [
        {
          "output_type": "stream",
          "name": "stdout",
          "text": [
            "4\n"
          ]
        }
      ]
    },
    {
      "cell_type": "code",
      "source": [
        "print (5&9)"
      ],
      "metadata": {
        "colab": {
          "base_uri": "https://localhost:8080/"
        },
        "id": "GvyBrZiLB5GQ",
        "outputId": "a016f67b-43c0-4b09-96ff-dd0e1db6b721"
      },
      "execution_count": 31,
      "outputs": [
        {
          "output_type": "stream",
          "name": "stdout",
          "text": [
            "1\n"
          ]
        }
      ]
    },
    {
      "cell_type": "code",
      "source": [
        "1&4"
      ],
      "metadata": {
        "colab": {
          "base_uri": "https://localhost:8080/"
        },
        "id": "v-IjyEZpCLWI",
        "outputId": "2abc23ad-9927-4ed3-8c6c-0dbc61ce00ca"
      },
      "execution_count": 32,
      "outputs": [
        {
          "output_type": "execute_result",
          "data": {
            "text/plain": [
              "0"
            ]
          },
          "metadata": {},
          "execution_count": 32
        }
      ]
    },
    {
      "cell_type": "code",
      "source": [
        "2&4"
      ],
      "metadata": {
        "colab": {
          "base_uri": "https://localhost:8080/"
        },
        "id": "R2XVElvVCVjw",
        "outputId": "6177c6d7-6725-410e-ab58-5f7b939f3c65"
      },
      "execution_count": 33,
      "outputs": [
        {
          "output_type": "execute_result",
          "data": {
            "text/plain": [
              "0"
            ]
          },
          "metadata": {},
          "execution_count": 33
        }
      ]
    },
    {
      "cell_type": "code",
      "source": [
        "3&5"
      ],
      "metadata": {
        "colab": {
          "base_uri": "https://localhost:8080/"
        },
        "id": "Ug9O0GjCCYyj",
        "outputId": "21dbdd73-bdb2-4ea3-cbfe-8887d9d4aa5e"
      },
      "execution_count": 34,
      "outputs": [
        {
          "output_type": "execute_result",
          "data": {
            "text/plain": [
              "1"
            ]
          },
          "metadata": {},
          "execution_count": 34
        }
      ]
    },
    {
      "cell_type": "code",
      "source": [
        "4&5"
      ],
      "metadata": {
        "colab": {
          "base_uri": "https://localhost:8080/"
        },
        "id": "Ja1w3uupCbV6",
        "outputId": "fa15f236-55e6-4204-e874-452e25d95f25"
      },
      "execution_count": 35,
      "outputs": [
        {
          "output_type": "execute_result",
          "data": {
            "text/plain": [
              "4"
            ]
          },
          "metadata": {},
          "execution_count": 35
        }
      ]
    },
    {
      "cell_type": "code",
      "source": [
        "4&7"
      ],
      "metadata": {
        "colab": {
          "base_uri": "https://localhost:8080/"
        },
        "id": "NRZqZBD7Cimc",
        "outputId": "5cf6952c-2002-410f-8868-8a30ecbb8165"
      },
      "execution_count": 36,
      "outputs": [
        {
          "output_type": "execute_result",
          "data": {
            "text/plain": [
              "4"
            ]
          },
          "metadata": {},
          "execution_count": 36
        }
      ]
    },
    {
      "cell_type": "code",
      "source": [
        "7&4"
      ],
      "metadata": {
        "colab": {
          "base_uri": "https://localhost:8080/"
        },
        "id": "r2pmTl28C1Hp",
        "outputId": "4b29f12b-38ca-44f5-80fc-84d74ed64927"
      },
      "execution_count": 37,
      "outputs": [
        {
          "output_type": "execute_result",
          "data": {
            "text/plain": [
              "4"
            ]
          },
          "metadata": {},
          "execution_count": 37
        }
      ]
    },
    {
      "cell_type": "markdown",
      "source": [
        "Or Operater \n",
        "\n",
        "'|' Operater"
      ],
      "metadata": {
        "id": "Zvt3d9i1niLD"
      }
    },
    {
      "cell_type": "code",
      "source": [
        "True | True"
      ],
      "metadata": {
        "colab": {
          "base_uri": "https://localhost:8080/"
        },
        "id": "FOBcHbJ4n-oW",
        "outputId": "8aa81ed1-f12b-4cd3-9f86-08704f374be0"
      },
      "execution_count": 1,
      "outputs": [
        {
          "output_type": "execute_result",
          "data": {
            "text/plain": [
              "True"
            ]
          },
          "metadata": {},
          "execution_count": 1
        }
      ]
    },
    {
      "cell_type": "code",
      "source": [
        "True | False"
      ],
      "metadata": {
        "colab": {
          "base_uri": "https://localhost:8080/"
        },
        "id": "0SuW4Cj4oHvI",
        "outputId": "77da5fbc-90cd-4a2c-e8a6-733a8c61c323"
      },
      "execution_count": 2,
      "outputs": [
        {
          "output_type": "execute_result",
          "data": {
            "text/plain": [
              "True"
            ]
          },
          "metadata": {},
          "execution_count": 2
        }
      ]
    },
    {
      "cell_type": "code",
      "source": [
        "False | False"
      ],
      "metadata": {
        "colab": {
          "base_uri": "https://localhost:8080/"
        },
        "id": "GqR6WGhSoN4w",
        "outputId": "4a8906c2-8aba-4774-847a-77b06e063d11"
      },
      "execution_count": 3,
      "outputs": [
        {
          "output_type": "execute_result",
          "data": {
            "text/plain": [
              "False"
            ]
          },
          "metadata": {},
          "execution_count": 3
        }
      ]
    },
    {
      "cell_type": "code",
      "source": [
        "# '|' operater with numbers \n",
        "2|2"
      ],
      "metadata": {
        "colab": {
          "base_uri": "https://localhost:8080/"
        },
        "id": "N6BZ-dRconuo",
        "outputId": "201a4f40-6973-49d3-feda-140c47c3771a"
      },
      "execution_count": 4,
      "outputs": [
        {
          "output_type": "execute_result",
          "data": {
            "text/plain": [
              "2"
            ]
          },
          "metadata": {},
          "execution_count": 4
        }
      ]
    },
    {
      "cell_type": "code",
      "source": [
        "2|5"
      ],
      "metadata": {
        "colab": {
          "base_uri": "https://localhost:8080/"
        },
        "id": "c1o_nOUMouGF",
        "outputId": "9311eba1-0dee-45a1-b4dc-502dae58f778"
      },
      "execution_count": 12,
      "outputs": [
        {
          "output_type": "execute_result",
          "data": {
            "text/plain": [
              "7"
            ]
          },
          "metadata": {},
          "execution_count": 12
        }
      ]
    },
    {
      "cell_type": "code",
      "source": [
        "2^3"
      ],
      "metadata": {
        "colab": {
          "base_uri": "https://localhost:8080/"
        },
        "id": "Jrf-JAWWhXds",
        "outputId": "4f1d55aa-e8da-4926-b631-903f772883a0"
      },
      "execution_count": 8,
      "outputs": [
        {
          "output_type": "execute_result",
          "data": {
            "text/plain": [
              "1"
            ]
          },
          "metadata": {},
          "execution_count": 8
        }
      ]
    },
    {
      "cell_type": "code",
      "source": [
        "4^4"
      ],
      "metadata": {
        "colab": {
          "base_uri": "https://localhost:8080/"
        },
        "id": "c50K24-6hfKd",
        "outputId": "2b6df1bf-e6d6-4255-ef06-e84fd2189f82"
      },
      "execution_count": 9,
      "outputs": [
        {
          "output_type": "execute_result",
          "data": {
            "text/plain": [
              "0"
            ]
          },
          "metadata": {},
          "execution_count": 9
        }
      ]
    },
    {
      "cell_type": "markdown",
      "source": [
        "**Compliment Operater**"
      ],
      "metadata": {
        "id": "2II7wNdobczM"
      }
    },
    {
      "cell_type": "code",
      "source": [
        "~5"
      ],
      "metadata": {
        "colab": {
          "base_uri": "https://localhost:8080/"
        },
        "id": "iTehSRVMC2-y",
        "outputId": "ee155439-a2eb-4d60-9520-b281653ff791"
      },
      "execution_count": 1,
      "outputs": [
        {
          "output_type": "execute_result",
          "data": {
            "text/plain": [
              "-6"
            ]
          },
          "metadata": {},
          "execution_count": 1
        }
      ]
    },
    {
      "cell_type": "code",
      "source": [
        "~2"
      ],
      "metadata": {
        "colab": {
          "base_uri": "https://localhost:8080/"
        },
        "id": "BMIIavokbxk8",
        "outputId": "883d5185-d8d8-4606-c0ce-b83d02e35a06"
      },
      "execution_count": 2,
      "outputs": [
        {
          "output_type": "execute_result",
          "data": {
            "text/plain": [
              "-3"
            ]
          },
          "metadata": {},
          "execution_count": 2
        }
      ]
    },
    {
      "cell_type": "code",
      "source": [
        "~-5"
      ],
      "metadata": {
        "colab": {
          "base_uri": "https://localhost:8080/"
        },
        "id": "oKm0-qvgbzl3",
        "outputId": "a7126b46-c6f6-4e69-8921-99ff370985d3"
      },
      "execution_count": 3,
      "outputs": [
        {
          "output_type": "execute_result",
          "data": {
            "text/plain": [
              "4"
            ]
          },
          "metadata": {},
          "execution_count": 3
        }
      ]
    },
    {
      "cell_type": "markdown",
      "source": [
        "**Shift operater**\n",
        "\n",
        "1) Left shift - shift first numbers binary value to Right by number of places as per second value.\n",
        "\n",
        "1) Right shift - shift first numbers binary value to Right by number of places as per second value."
      ],
      "metadata": {
        "id": "u26aP8SdcqjK"
      }
    },
    {
      "cell_type": "code",
      "source": [
        "#Left Shift operater \n",
        "# 0000 1010 - 10\n",
        "# 0010 1000 - 40\n",
        "\n",
        "10<<2"
      ],
      "metadata": {
        "colab": {
          "base_uri": "https://localhost:8080/"
        },
        "id": "OmYtlsm_b1xM",
        "outputId": "7dbf6ae8-d300-4e58-acd4-aff747ac2d56"
      },
      "execution_count": 7,
      "outputs": [
        {
          "output_type": "execute_result",
          "data": {
            "text/plain": [
              "40"
            ]
          },
          "metadata": {},
          "execution_count": 7
        }
      ]
    },
    {
      "cell_type": "code",
      "source": [
        "#Right Shift operater \n",
        "# 0000 1010 - 10\n",
        "# 0000 0010 - 02\n",
        "\n",
        "10>>2"
      ],
      "metadata": {
        "colab": {
          "base_uri": "https://localhost:8080/"
        },
        "id": "MTPSmiBNeDFk",
        "outputId": "cd84c1bb-5996-48f6-9a3d-b3aed9faf05c"
      },
      "execution_count": 6,
      "outputs": [
        {
          "output_type": "execute_result",
          "data": {
            "text/plain": [
              "2"
            ]
          },
          "metadata": {},
          "execution_count": 6
        }
      ]
    },
    {
      "cell_type": "markdown",
      "source": [
        "#**Asignment Operater**\n",
        "\n",
        "These operaters are used to assign values \n",
        "\n",
        "Examples are as follows: \n",
        "\n",
        "1) +=\n",
        "\n",
        "2) -=\n",
        "\n",
        "3) *=\n",
        "\n",
        "4) /=\n",
        "\n",
        "5) %=\n",
        "\n",
        "6) //=\n",
        "\n",
        "7) **=\n",
        "\n",
        "8) &=\n",
        "\n",
        "9) |=\n",
        "\n",
        "10) ^=\n",
        "\n",
        "11) >>=\n",
        "\n",
        "12) <<="
      ],
      "metadata": {
        "id": "DIOJwQHDh6vr"
      }
    },
    {
      "cell_type": "markdown",
      "source": [
        "1] Instead of using\n",
        "\n",
        "A = A+1\n",
        "\n",
        "We can write \n",
        "\n",
        "A+= 1"
      ],
      "metadata": {
        "id": "RPBJNWakjCGu"
      }
    },
    {
      "cell_type": "code",
      "source": [
        "A = 10\n",
        "A+= 20\n",
        "A"
      ],
      "metadata": {
        "colab": {
          "base_uri": "https://localhost:8080/"
        },
        "id": "A87qgQG2epcW",
        "outputId": "f84659ce-1581-499e-bba6-32fca0ee8cf0"
      },
      "execution_count": 10,
      "outputs": [
        {
          "output_type": "execute_result",
          "data": {
            "text/plain": [
              "30"
            ]
          },
          "metadata": {},
          "execution_count": 10
        }
      ]
    },
    {
      "cell_type": "markdown",
      "source": [
        "2] Instead of using\n",
        "\n",
        "A = A-1\n",
        "\n",
        "We can write \n",
        "\n",
        "A-= 1"
      ],
      "metadata": {
        "id": "SJWydW-XjaGi"
      }
    },
    {
      "cell_type": "code",
      "source": [
        "A = 450\n",
        "A-= 20\n",
        "A"
      ],
      "metadata": {
        "colab": {
          "base_uri": "https://localhost:8080/"
        },
        "id": "jMVDsCnDjToO",
        "outputId": "4d348faa-547c-4a06-fc38-6d210a23cba1"
      },
      "execution_count": 11,
      "outputs": [
        {
          "output_type": "execute_result",
          "data": {
            "text/plain": [
              "430"
            ]
          },
          "metadata": {},
          "execution_count": 11
        }
      ]
    },
    {
      "cell_type": "markdown",
      "source": [
        "3] Instead of using\n",
        "\n",
        "A = A*1\n",
        "\n",
        "We can write\n",
        "\n",
        "A*= 1"
      ],
      "metadata": {
        "id": "_uXEsvhijv7S"
      }
    },
    {
      "cell_type": "code",
      "source": [
        "A = 10\n",
        "A*= 20\n",
        "A"
      ],
      "metadata": {
        "colab": {
          "base_uri": "https://localhost:8080/"
        },
        "id": "bvK05pqAjmPC",
        "outputId": "dbc849d0-e03c-46aa-f5a4-c479636f5ba6"
      },
      "execution_count": 12,
      "outputs": [
        {
          "output_type": "execute_result",
          "data": {
            "text/plain": [
              "200"
            ]
          },
          "metadata": {},
          "execution_count": 12
        }
      ]
    },
    {
      "cell_type": "markdown",
      "source": [
        "4] Instead of using\n",
        "\n",
        "A = A/1\n",
        "\n",
        "We can write\n",
        "\n",
        "A/= 1"
      ],
      "metadata": {
        "id": "LLjcJuPWj_eP"
      }
    },
    {
      "cell_type": "code",
      "source": [
        "A = 40\n",
        "A/= 20\n",
        "A"
      ],
      "metadata": {
        "colab": {
          "base_uri": "https://localhost:8080/"
        },
        "id": "QYtu-A13j-GP",
        "outputId": "790c2044-058c-4e7d-a8c9-beb24dbe4c03"
      },
      "execution_count": 13,
      "outputs": [
        {
          "output_type": "execute_result",
          "data": {
            "text/plain": [
              "2.0"
            ]
          },
          "metadata": {},
          "execution_count": 13
        }
      ]
    },
    {
      "cell_type": "markdown",
      "source": [
        "5] Modulo operater\n"
      ],
      "metadata": {
        "id": "cW63HiH7kVqv"
      }
    },
    {
      "cell_type": "code",
      "source": [
        "A = 43\n",
        "A%= 20\n",
        "A"
      ],
      "metadata": {
        "colab": {
          "base_uri": "https://localhost:8080/"
        },
        "id": "3v6PKQXhkJUR",
        "outputId": "0071ee2e-9916-4d45-fd5e-2db705a80a8b"
      },
      "execution_count": 14,
      "outputs": [
        {
          "output_type": "execute_result",
          "data": {
            "text/plain": [
              "3"
            ]
          },
          "metadata": {},
          "execution_count": 14
        }
      ]
    },
    {
      "cell_type": "markdown",
      "source": [
        "6] Flore division "
      ],
      "metadata": {
        "id": "VUOMoox9ky_r"
      }
    },
    {
      "cell_type": "code",
      "source": [
        "A = 43\n",
        "A//= 20\n",
        "A"
      ],
      "metadata": {
        "colab": {
          "base_uri": "https://localhost:8080/"
        },
        "id": "2DGjr18nkx1u",
        "outputId": "f70f3ffc-5f89-4c91-f033-14f1db309d89"
      },
      "execution_count": 15,
      "outputs": [
        {
          "output_type": "execute_result",
          "data": {
            "text/plain": [
              "2"
            ]
          },
          "metadata": {},
          "execution_count": 15
        }
      ]
    },
    {
      "cell_type": "markdown",
      "source": [
        "#**Ternary operater or Conditional operater**\n",
        "\n",
        "Using If / Else condition"
      ],
      "metadata": {
        "id": "_lrrotKbpzaE"
      }
    },
    {
      "cell_type": "code",
      "source": [
        "# Finding lowest number using if else\n",
        "\n",
        "a,b = 10,20\n",
        "\n",
        "print (a if a<b else b)"
      ],
      "metadata": {
        "colab": {
          "base_uri": "https://localhost:8080/"
        },
        "id": "iQDvqMh0k8wO",
        "outputId": "7cb65812-ff1b-48c2-d26a-729c01928a76"
      },
      "execution_count": 13,
      "outputs": [
        {
          "output_type": "stream",
          "name": "stdout",
          "text": [
            "10\n"
          ]
        }
      ]
    },
    {
      "cell_type": "code",
      "source": [
        "#find lowest number of 3 numbers \n",
        "\n",
        "a,b,c = 4,7,2\n",
        "\n",
        "print (a if a<b and a<c else b if b<c else c)"
      ],
      "metadata": {
        "colab": {
          "base_uri": "https://localhost:8080/"
        },
        "id": "XPO_yxLfqhTE",
        "outputId": "bb468aea-7f9a-4cf0-9fc8-d70ef41e340e"
      },
      "execution_count": 16,
      "outputs": [
        {
          "output_type": "stream",
          "name": "stdout",
          "text": [
            "2\n"
          ]
        }
      ]
    },
    {
      "cell_type": "markdown",
      "source": [
        "# **Homework**\n",
        "**Find max of 3 numbers**"
      ],
      "metadata": {
        "id": "MFKG2P2OrYrf"
      }
    },
    {
      "cell_type": "code",
      "source": [
        "# let user hardcode the values \n",
        "\n",
        "a = int(input(\"Enter first value: \"))\n",
        "b = int(input(\"Enter first value: \"))\n",
        "c = int(input(\"Enter first value: \"))\n",
        "\n",
        "print(a if a>b and a>c else b if b>c else c)"
      ],
      "metadata": {
        "colab": {
          "base_uri": "https://localhost:8080/"
        },
        "id": "THW9BTJFrOQc",
        "outputId": "ee82449d-9e5d-4bed-d5e8-9b2bad28a646"
      },
      "execution_count": 17,
      "outputs": [
        {
          "output_type": "stream",
          "name": "stdout",
          "text": [
            "Enter first value: 5\n",
            "Enter first value: 4\n",
            "Enter first value: 8\n",
            "8\n"
          ]
        }
      ]
    },
    {
      "cell_type": "markdown",
      "source": [
        "#**Identiry operater**\n",
        "\n",
        "Is \n",
        "\n",
        "Is not\n",
        "\n",
        "r1 is r2 returns True if both r1 and r2 are pointing to the same object.\n",
        "\n",
        "r1 is not r2 returns True if both r1 and r2 are not pointing to the same object."
      ],
      "metadata": {
        "id": "UexkTzmgs103"
      }
    },
    {
      "cell_type": "code",
      "source": [
        "1 is 2"
      ],
      "metadata": {
        "colab": {
          "base_uri": "https://localhost:8080/"
        },
        "id": "JtyCXpKNsXcv",
        "outputId": "1102e73a-4804-4a5d-9a5a-6f40061ad32a"
      },
      "execution_count": 18,
      "outputs": [
        {
          "output_type": "execute_result",
          "data": {
            "text/plain": [
              "False"
            ]
          },
          "metadata": {},
          "execution_count": 18
        }
      ]
    },
    {
      "cell_type": "code",
      "source": [
        "2 is 2"
      ],
      "metadata": {
        "colab": {
          "base_uri": "https://localhost:8080/"
        },
        "id": "gFu3gLFpuAZw",
        "outputId": "f60721b9-ea88-4593-b07c-9f8744399a62"
      },
      "execution_count": 19,
      "outputs": [
        {
          "output_type": "execute_result",
          "data": {
            "text/plain": [
              "True"
            ]
          },
          "metadata": {},
          "execution_count": 19
        }
      ]
    },
    {
      "cell_type": "code",
      "source": [
        "1 is not 2"
      ],
      "metadata": {
        "colab": {
          "base_uri": "https://localhost:8080/"
        },
        "id": "a1fvvDlSuCjD",
        "outputId": "d0a6f670-d73c-417b-b729-2a7a7db6bf7b"
      },
      "execution_count": 20,
      "outputs": [
        {
          "output_type": "execute_result",
          "data": {
            "text/plain": [
              "True"
            ]
          },
          "metadata": {},
          "execution_count": 20
        }
      ]
    },
    {
      "cell_type": "code",
      "source": [
        "2 is not 2"
      ],
      "metadata": {
        "colab": {
          "base_uri": "https://localhost:8080/"
        },
        "id": "zzT4R76NuEac",
        "outputId": "f3fb681b-5464-4208-833f-3a6d45d9f245"
      },
      "execution_count": 21,
      "outputs": [
        {
          "output_type": "execute_result",
          "data": {
            "text/plain": [
              "False"
            ]
          },
          "metadata": {},
          "execution_count": 21
        }
      ]
    },
    {
      "cell_type": "markdown",
      "source": [
        "# **Membership operater**\n",
        "\n",
        "We can use Membership operators to check whether the given object present in the given collection. (It may be String, List, Set, Tuple OR Dict)\n",
        "\n",
        "1) In -> Returns True if the given object present in the specified Collection\n",
        "\n",
        "2) not in -> Retruns True if the given object not present in the specified Collection\n",
        "\n",
        "3) it is not case sensitive"
      ],
      "metadata": {
        "id": "nvLjBCxauTjq"
      }
    },
    {
      "cell_type": "code",
      "source": [
        "# check membership operater \n",
        "\n",
        "a = \"Shriniwas\"\n",
        "\n",
        "print ('s' in a)\n",
        "print ('niwas' in a)\n",
        "print ('b' in a)\n",
        "print ('nish' in a)"
      ],
      "metadata": {
        "colab": {
          "base_uri": "https://localhost:8080/"
        },
        "id": "-pKk1vw1uF63",
        "outputId": "fcea7647-588c-49ab-fc22-d02a52278f53"
      },
      "execution_count": 22,
      "outputs": [
        {
          "output_type": "stream",
          "name": "stdout",
          "text": [
            "True\n",
            "True\n",
            "False\n",
            "False\n"
          ]
        }
      ]
    },
    {
      "cell_type": "markdown",
      "source": [
        "# **Math Module**\n",
        "\n",
        "We need to import math module"
      ],
      "metadata": {
        "id": "7qg2qaqUySqZ"
      }
    },
    {
      "cell_type": "code",
      "source": [
        "import math\n",
        "math.sqrt(16)"
      ],
      "metadata": {
        "colab": {
          "base_uri": "https://localhost:8080/"
        },
        "id": "v06J-vbtyVad",
        "outputId": "f0d2f0f7-5bd6-4cf0-ead5-b60631e8da4a"
      },
      "execution_count": 25,
      "outputs": [
        {
          "output_type": "execute_result",
          "data": {
            "text/plain": [
              "4.0"
            ]
          },
          "metadata": {},
          "execution_count": 25
        }
      ]
    },
    {
      "cell_type": "code",
      "source": [
        "from math import ceil, floor, factorial, trunc, gcd, sin,cos,tan\n",
        "print(ceil(10.55))\n",
        "print(floor(10.55))\n",
        "print(pow(10,20))\n",
        "print(factorial(5))\n",
        "print(trunc(10.55))\n",
        "print(gcd(10,20))\n",
        "print(sin(10))\n",
        "print(cos(10))\n",
        "print(tan(10))\n"
      ],
      "metadata": {
        "colab": {
          "base_uri": "https://localhost:8080/"
        },
        "id": "4JGhJ2mWyihM",
        "outputId": "17b4309b-5cde-4dde-ef3a-f6c5f4d7cb99"
      },
      "execution_count": 27,
      "outputs": [
        {
          "output_type": "stream",
          "name": "stdout",
          "text": [
            "11\n",
            "10\n",
            "100000000000000000000\n",
            "120\n",
            "10\n",
            "10\n",
            "-0.5440211108893698\n",
            "-0.8390715290764524\n",
            "0.6483608274590866\n"
          ]
        }
      ]
    },
    {
      "cell_type": "markdown",
      "source": [
        "# **Homework**\n",
        "\n",
        "To find area of circle. take hardcoded value from user "
      ],
      "metadata": {
        "id": "vHQ0KHbDzO8k"
      }
    },
    {
      "cell_type": "code",
      "source": [
        "a = math.pi\n",
        "r = math.pow(int(input(\"Enter value of radius : \")),2)\n",
        "area = a*r\n",
        "print (area)"
      ],
      "metadata": {
        "colab": {
          "base_uri": "https://localhost:8080/"
        },
        "id": "tsKpY0U0zBiP",
        "outputId": "c01356aa-58fb-48c7-c015-60258029c2f8"
      },
      "execution_count": 29,
      "outputs": [
        {
          "output_type": "stream",
          "name": "stdout",
          "text": [
            "Enter value of radius : 5\n",
            "78.53981633974483\n"
          ]
        }
      ]
    },
    {
      "cell_type": "code",
      "source": [
        ""
      ],
      "metadata": {
        "id": "APkiTsu40PEa"
      },
      "execution_count": null,
      "outputs": []
    }
  ]
}