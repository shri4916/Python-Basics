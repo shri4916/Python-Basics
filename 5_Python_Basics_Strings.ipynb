{
  "nbformat": 4,
  "nbformat_minor": 0,
  "metadata": {
    "colab": {
      "name": "5_Python_Basics_Strings.ipynb",
      "provenance": [],
      "collapsed_sections": [],
      "authorship_tag": "ABX9TyP257kXIl2mdcXizTojKebH",
      "include_colab_link": true
    },
    "kernelspec": {
      "name": "python3",
      "display_name": "Python 3"
    },
    "language_info": {
      "name": "python"
    }
  },
  "cells": [
    {
      "cell_type": "markdown",
      "metadata": {
        "id": "view-in-github",
        "colab_type": "text"
      },
      "source": [
        "<a href=\"https://colab.research.google.com/github/shri4916/Python-Basics/blob/main/5_Python_Basics_Strings.ipynb\" target=\"_parent\"><img src=\"https://colab.research.google.com/assets/colab-badge.svg\" alt=\"Open In Colab\"/></a>"
      ]
    },
    {
      "cell_type": "markdown",
      "source": [
        "# **String**\n",
        "\n",
        "1) Any sequence of characters within either single quotes or double quotes is considered as a String.\n",
        "\n",
        "2) We can define multi-line String literals by using triple single or double quotes.\n",
        "\n",
        "3) We can also use triple quotes to use single quotes or double quotes as symbol inside String literal"
      ],
      "metadata": {
        "id": "-xnXVY6LrT7S"
      }
    },
    {
      "cell_type": "code",
      "execution_count": null,
      "metadata": {
        "colab": {
          "base_uri": "https://localhost:8080/"
        },
        "id": "yv0kVfrBq_SH",
        "outputId": "8a972266-c943-4fcd-a544-0a7ae37f6864"
      },
      "outputs": [
        {
          "output_type": "stream",
          "name": "stdout",
          "text": [
            "shri\n",
            "Niwas\n",
            " shri\n",
            "niwas\n",
            "shri\n",
            "niwas\n",
            "shri \"niwas\" \n",
            "shri 'niwas' a\n",
            "shri \"niwas\" b\n",
            "shri Niwas  shri\n",
            "niwas shri\n",
            "niwas shri \"niwas\"  shri 'niwas' a shri \"niwas\" b\n"
          ]
        }
      ],
      "source": [
        "a = 'shri'\n",
        "b = \"Niwas\"\n",
        "c = \"\"\" shri\n",
        "niwas\"\"\"\n",
        "d = '''shri\n",
        "niwas'''\n",
        "#e = '''shri 'niwas''''\n",
        "f = \"\"\"shri \"niwas\" \"\"\"\n",
        "g = '''shri 'niwas' a'''\n",
        "h = \"\"\"shri \"niwas\" b\"\"\"\n",
        "print (a)\n",
        "print (b)\n",
        "print (c)\n",
        "print (d)\n",
        "#print (e)\n",
        "print (f)\n",
        "print (g)\n",
        "print (h)\n",
        "print (a,b,c,d,f,g,h)\n",
        "\n"
      ]
    },
    {
      "cell_type": "markdown",
      "source": [
        "# **How to access characters of a string?**\n",
        "We can access characters of a string by using the following ways.\n",
        "\n",
        "1) By using index\n",
        "\n",
        "2) By using slice operator"
      ],
      "metadata": {
        "id": "1EDP4rBcskeW"
      }
    },
    {
      "cell_type": "code",
      "source": [
        "print(a[0])\n",
        "print(a[2])\n",
        "print(a[-2])\n",
        "print (a[:])\n",
        "print(a[:3])\n",
        "print (a[1:])\n",
        "print (a[1::2])\n",
        "print (a[::2])"
      ],
      "metadata": {
        "colab": {
          "base_uri": "https://localhost:8080/"
        },
        "id": "7ePydFi-sIa5",
        "outputId": "b9c90a08-c708-454d-a80c-5e188b3df0e7"
      },
      "execution_count": null,
      "outputs": [
        {
          "output_type": "stream",
          "name": "stdout",
          "text": [
            "s\n",
            "r\n",
            "r\n",
            "shri\n",
            "shr\n",
            "hri\n",
            "hi\n"
          ]
        }
      ]
    },
    {
      "cell_type": "code",
      "source": [
        "# 2. Accessing characters by using slice operator\n",
        "#  Syntax: s[begin index : end index : step]\n",
        "s=\"Learning Python is very very easy!!!\"\n",
        "print (s[4:10:1])\n",
        "print (s[::])\n",
        "print (s[::-1])\n",
        "print (s[234:13:-1])\n",
        "print (len(s))\n",
        "print (type(s))"
      ],
      "metadata": {
        "colab": {
          "base_uri": "https://localhost:8080/"
        },
        "id": "hicFOPMnuv-o",
        "outputId": "f1949461-628d-497b-ba90-0007a3c91896"
      },
      "execution_count": null,
      "outputs": [
        {
          "output_type": "stream",
          "name": "stdout",
          "text": [
            "ning P\n",
            "Learning Python is very very easy!!!\n",
            "!!!ysae yrev yrev si nohtyP gninraeL\n",
            "!!!ysae yrev yrev si n\n",
            "36\n",
            "<class 'str'>\n"
          ]
        }
      ]
    },
    {
      "cell_type": "markdown",
      "source": [
        "**Q)Write a Program to access each Character of String in Forward and Backward Direction by using while Loop?**"
      ],
      "metadata": {
        "id": "Nh9qR63ovtJd"
      }
    },
    {
      "cell_type": "code",
      "source": [
        "e = \"shriniwas\"\n",
        "l = len(e)\n",
        "i = 0\n",
        "while i<l:\n",
        "  print (e[i],end='')\n",
        "  i += 1\n",
        "print()\n",
        "ind2 = -1\n",
        "while ind2>=-l:\n",
        "  print (e[ind2],end='')\n",
        "  ind2 -= 1"
      ],
      "metadata": {
        "colab": {
          "base_uri": "https://localhost:8080/"
        },
        "id": "N2_ki1Sdvusf",
        "outputId": "341552f8-e980-4852-e210-5b344920e24f"
      },
      "execution_count": null,
      "outputs": [
        {
          "output_type": "stream",
          "name": "stdout",
          "text": [
            "shriniwas\n",
            "sawinirhs"
          ]
        }
      ]
    },
    {
      "cell_type": "markdown",
      "source": [
        "## **Checking Membership:**\n",
        "We can check whether the character or string is the member of another string or not by using in and not in operators."
      ],
      "metadata": {
        "id": "oWRQwMxBy6Yf"
      }
    },
    {
      "cell_type": "code",
      "source": [
        "q = 'shriniwas'\n",
        "print('shri' in q)\n",
        "print('ram' in q)\n",
        "print('ri' in q)\n",
        "print('swai' in q)"
      ],
      "metadata": {
        "colab": {
          "base_uri": "https://localhost:8080/"
        },
        "id": "LH0XfA2Ry80w",
        "outputId": "6bd51ede-76de-4b3f-bb91-e53c9a9c15a4"
      },
      "execution_count": null,
      "outputs": [
        {
          "output_type": "stream",
          "name": "stdout",
          "text": [
            "True\n",
            "False\n",
            "True\n",
            "False\n"
          ]
        }
      ]
    },
    {
      "cell_type": "markdown",
      "source": [
        "# **Comparison of Strings**\n",
        "We can use comparison operators (<, <=, >, >=) and equality operators (==, !=) for strings.\n",
        "\n",
        "it dose not compare the leangh of string\n",
        "\n",
        "It compares the characters in string Ex - B is greater than A"
      ],
      "metadata": {
        "id": "kiW-D6ML0uC-"
      }
    },
    {
      "cell_type": "code",
      "source": [
        "s1 = \"shri\"\n",
        "s2 = \"niwas\"\n",
        "if s1==s2:\n",
        "  print(\"Both strings are equal\")\n",
        "elif s1<s2:                                                                                            \n",
        "  print(\"First String is short\")\n",
        "else:\n",
        "  print(\"First String is long\")"
      ],
      "metadata": {
        "colab": {
          "base_uri": "https://localhost:8080/"
        },
        "id": "BDVuWnbY0y9p",
        "outputId": "4d53eb8c-173d-46ee-9e4e-c968cb88e55e"
      },
      "execution_count": null,
      "outputs": [
        {
          "output_type": "stream",
          "name": "stdout",
          "text": [
            "First String is long\n"
          ]
        }
      ]
    },
    {
      "cell_type": "markdown",
      "source": [
        "**Removing Spaces from the String:**\n",
        "\n",
        "1)rstrip()-->To remove spaces at right hand side.\n",
        "\n",
        "2) lstrip()--> To remove spaces at left hand side.\n",
        "\n",
        "3) strip()-->To remove spaces both sides."
      ],
      "metadata": {
        "id": "14EXrcOm42DW"
      }
    },
    {
      "cell_type": "code",
      "source": [
        "f = \" ndsf \"\n",
        "print(f.strip())\n",
        "print(f.rstrip())\n",
        "print(f.lstrip())"
      ],
      "metadata": {
        "colab": {
          "base_uri": "https://localhost:8080/"
        },
        "id": "vMiLW5f0488Y",
        "outputId": "29f5744c-976c-4798-c852-a54433c6484a"
      },
      "execution_count": null,
      "outputs": [
        {
          "output_type": "stream",
          "name": "stdout",
          "text": [
            "ndsf\n",
            " ndsf\n",
            "ndsf \n"
          ]
        }
      ]
    },
    {
      "cell_type": "markdown",
      "source": [
        "**Finding Substrings:**\n",
        "\n",
        "We can use the following 4 methods\n",
        "\n",
        "For forward direction:\n",
        "\n",
        "1) find()\n",
        "\n",
        "2) index()\n",
        "\n",
        "For backward direction:\n",
        "\n",
        "1) rfind()\n",
        "\n",
        "2) rindex()"
      ],
      "metadata": {
        "id": "_XiFIHr37FB9"
      }
    },
    {
      "cell_type": "markdown",
      "source": [
        "**find()**\n",
        "\n",
        "Returns index of first occurrence of the given substring. If it is not available then we will get -1."
      ],
      "metadata": {
        "id": "mBSHnfktPyMO"
      }
    },
    {
      "cell_type": "code",
      "source": [
        "s=\" data \"\n",
        "print(s.find(\"ata\")) #1st index\n",
        "print(s.find('a',3,5))\n",
        "print(s.find(' ',2,7))\n",
        "print(s.find(\" \"))\n",
        "print(s.find(\"s\"))"
      ],
      "metadata": {
        "colab": {
          "base_uri": "https://localhost:8080/"
        },
        "id": "sHY6Tj4U7Knw",
        "outputId": "c81b9aa0-875c-42c0-d56e-ecf40f313a78"
      },
      "execution_count": null,
      "outputs": [
        {
          "output_type": "stream",
          "name": "stdout",
          "text": [
            "2\n",
            "4\n",
            "5\n",
            "0\n",
            "-1\n"
          ]
        }
      ]
    },
    {
      "cell_type": "markdown",
      "source": [
        "**index()**\n",
        "\n",
        "index() method is exactly same as find() method except that if the specified substring is not available then we will get ValueError."
      ],
      "metadata": {
        "id": "wBkLIQ1zPY3m"
      }
    },
    {
      "cell_type": "code",
      "source": [
        "s=\" data \"\n",
        "print(s.index(\"ata\")) \n",
        "print(s.index('a',3,5))\n",
        "print(s.index(' ',2,7))\n",
        "print(s.index(\" \"))\n",
        "print(s.index(\"s\"))"
      ],
      "metadata": {
        "colab": {
          "base_uri": "https://localhost:8080/",
          "height": 269
        },
        "id": "x-hZBbTX70fg",
        "outputId": "5f42c6dc-9b43-45a4-fe54-9572a8f95e67"
      },
      "execution_count": null,
      "outputs": [
        {
          "output_type": "stream",
          "name": "stdout",
          "text": [
            "2\n",
            "4\n",
            "5\n",
            "0\n"
          ]
        },
        {
          "output_type": "error",
          "ename": "ValueError",
          "evalue": "ignored",
          "traceback": [
            "\u001b[0;31m---------------------------------------------------------------------------\u001b[0m",
            "\u001b[0;31mValueError\u001b[0m                                Traceback (most recent call last)",
            "\u001b[0;32m<ipython-input-2-5117ed7f159a>\u001b[0m in \u001b[0;36m<module>\u001b[0;34m()\u001b[0m\n\u001b[1;32m      4\u001b[0m \u001b[0mprint\u001b[0m\u001b[0;34m(\u001b[0m\u001b[0ms\u001b[0m\u001b[0;34m.\u001b[0m\u001b[0mindex\u001b[0m\u001b[0;34m(\u001b[0m\u001b[0;34m' '\u001b[0m\u001b[0;34m,\u001b[0m\u001b[0;36m2\u001b[0m\u001b[0;34m,\u001b[0m\u001b[0;36m7\u001b[0m\u001b[0;34m)\u001b[0m\u001b[0;34m)\u001b[0m\u001b[0;34m\u001b[0m\u001b[0;34m\u001b[0m\u001b[0m\n\u001b[1;32m      5\u001b[0m \u001b[0mprint\u001b[0m\u001b[0;34m(\u001b[0m\u001b[0ms\u001b[0m\u001b[0;34m.\u001b[0m\u001b[0mindex\u001b[0m\u001b[0;34m(\u001b[0m\u001b[0;34m\" \"\u001b[0m\u001b[0;34m)\u001b[0m\u001b[0;34m)\u001b[0m\u001b[0;34m\u001b[0m\u001b[0;34m\u001b[0m\u001b[0m\n\u001b[0;32m----> 6\u001b[0;31m \u001b[0mprint\u001b[0m\u001b[0;34m(\u001b[0m\u001b[0ms\u001b[0m\u001b[0;34m.\u001b[0m\u001b[0mindex\u001b[0m\u001b[0;34m(\u001b[0m\u001b[0;34m\"s\"\u001b[0m\u001b[0;34m)\u001b[0m\u001b[0;34m)\u001b[0m\u001b[0;34m\u001b[0m\u001b[0;34m\u001b[0m\u001b[0m\n\u001b[0m",
            "\u001b[0;31mValueError\u001b[0m: substring not found"
          ]
        }
      ]
    },
    {
      "cell_type": "markdown",
      "source": [
        "**Q) Program to display all Positions of Substring in a given Main String**"
      ],
      "metadata": {
        "id": "CiaUaREgTnbZ"
      }
    },
    {
      "cell_type": "code",
      "source": [
        "a= 'shriniwas'\n",
        "b='i'\n",
        "c = len(a)\n",
        "flag = True\n",
        "ind = -1\n",
        "\n",
        "while True:\n",
        "  ind = a.find(b,ind+1,c)\n",
        "  if ind ==-1:\n",
        "        break\n",
        "  print (\"Index value is: \",ind)\n",
        "  flag = False\n",
        "\n",
        "  if flag==True :\n",
        "    print (\"Value not found\")"
      ],
      "metadata": {
        "colab": {
          "base_uri": "https://localhost:8080/"
        },
        "id": "yi71AbWlXNCM",
        "outputId": "3d0d2faa-819a-4916-9616-b0cf1299e4c2"
      },
      "execution_count": null,
      "outputs": [
        {
          "output_type": "stream",
          "name": "stdout",
          "text": [
            "Index value is:  3\n",
            "Index value is:  5\n"
          ]
        }
      ]
    },
    {
      "cell_type": "markdown",
      "source": [
        "**Count substring in the given String:**\n",
        "\n",
        "We can find the number of occurrences of substring present in the given string by using count() method.\n",
        "\n",
        "s.count(substring)-->It will search through out the string.\n",
        "\n",
        "s.count(substring, bEgin, end)-->It will search from bEgin index to end-1 index."
      ],
      "metadata": {
        "id": "hUPKm6AaXK97"
      }
    },
    {
      "cell_type": "code",
      "source": [
        "a= 'shriniwas'\n",
        "print(a.count('i'))\n",
        "print(a.count('i',2,4))"
      ],
      "metadata": {
        "colab": {
          "base_uri": "https://localhost:8080/"
        },
        "id": "2Z-8_lLAYDf5",
        "outputId": "a2444c60-16f2-4145-8d5b-5d2017a3079f"
      },
      "execution_count": null,
      "outputs": [
        {
          "output_type": "stream",
          "name": "stdout",
          "text": [
            "2\n",
            "1\n"
          ]
        }
      ]
    },
    {
      "cell_type": "markdown",
      "source": [
        "**Replacing a String with another String:**\n",
        "\n",
        "s.replace(oldstring, newstring)\n",
        "\n",
        "Inside s, every occurrence of old String will be replaced with new String."
      ],
      "metadata": {
        "id": "S9xn8ifNZ0nC"
      }
    },
    {
      "cell_type": "code",
      "source": [
        "a= 'shriniwas'\n",
        "print(a.replace('i','a'))"
      ],
      "metadata": {
        "colab": {
          "base_uri": "https://localhost:8080/"
        },
        "id": "nSJmc3TpZ3sa",
        "outputId": "c974d89d-e980-4e83-f317-2e844d39cb7a"
      },
      "execution_count": null,
      "outputs": [
        {
          "output_type": "stream",
          "name": "stdout",
          "text": [
            "shranawas\n"
          ]
        }
      ]
    },
    {
      "cell_type": "markdown",
      "source": [
        "**Splitting of Strings:**\n",
        "\n",
        "We can split the given string according to specified seperator by using split() method.\n",
        "\n",
        "Syntax: l = s.split(seperator)"
      ],
      "metadata": {
        "id": "a4v0DsIMabZm"
      }
    },
    {
      "cell_type": "code",
      "source": [
        "s=\"22-02-2018\"\n",
        "l=s.split('-')\n",
        "print(l)\n",
        "for x in l:\n",
        "  print(x)"
      ],
      "metadata": {
        "id": "K7JLYgkBadqn",
        "colab": {
          "base_uri": "https://localhost:8080/"
        },
        "outputId": "ea606dbe-7d79-4e66-f148-11819812cbe8"
      },
      "execution_count": 1,
      "outputs": [
        {
          "output_type": "stream",
          "name": "stdout",
          "text": [
            "['22', '02', '2018']\n",
            "22\n",
            "02\n",
            "2018\n"
          ]
        }
      ]
    },
    {
      "cell_type": "code",
      "source": [
        "a = \"01/02/13\"\n",
        "b = a.split('/')\n",
        "print(b)\n",
        "for i in b:\n",
        "  print(i)"
      ],
      "metadata": {
        "colab": {
          "base_uri": "https://localhost:8080/"
        },
        "id": "spU-vn-TIKya",
        "outputId": "7633c69e-f8a7-4b28-9796-e1ffa3977f12"
      },
      "execution_count": 2,
      "outputs": [
        {
          "output_type": "stream",
          "name": "stdout",
          "text": [
            "['01', '02', '13']\n",
            "01\n",
            "02\n",
            "13\n"
          ]
        }
      ]
    },
    {
      "cell_type": "markdown",
      "source": [
        "### **Joining Of Strings:**\n",
        "\n",
        "s = seperator.join(group of strings)"
      ],
      "metadata": {
        "id": "CW0GKZ70I5AY"
      }
    },
    {
      "cell_type": "code",
      "source": [
        "a = [\"abc\", \"bcd\", 'cdf']\n",
        "print('-'.join(a))"
      ],
      "metadata": {
        "colab": {
          "base_uri": "https://localhost:8080/"
        },
        "id": "4y0fFHkJJK-V",
        "outputId": "053bdf1f-37d1-4f98-886b-e6e11d57c281"
      },
      "execution_count": 5,
      "outputs": [
        {
          "output_type": "stream",
          "name": "stdout",
          "text": [
            "abc-bcd-cdf\n"
          ]
        }
      ]
    },
    {
      "cell_type": "markdown",
      "source": [
        "## **Changing the case of a string:**\n",
        "\n",
        "upper()-->To convert all characters to upper case.\n",
        "\n",
        "lower()-->To convert all characters to lower case.\n",
        "\n",
        "swapcase() --> Converts all lower case characters to upper case and all upper case characters to lower case\n",
        "\n",
        "title() --> To convert all character to title case. i.e first character in every word should be upper case and all remaining characters should be in lower case.\n",
        "\n",
        "capitalize() --> Only first character will be converted to upper case and all remaining characters can be converted to lower case."
      ],
      "metadata": {
        "id": "UhXtyAOgKXER"
      }
    },
    {
      "cell_type": "code",
      "source": [
        "a = 'Shriniwas Ambad'\n",
        "\n",
        "print(a.upper())\n",
        "print(a.lower())\n",
        "print(a.swapcase())\n",
        "print(a.title())\n",
        "print(a.capitalize())"
      ],
      "metadata": {
        "colab": {
          "base_uri": "https://localhost:8080/"
        },
        "id": "duOKXol4Kax7",
        "outputId": "96637384-06dc-4725-f176-10f28ba4d779"
      },
      "execution_count": 8,
      "outputs": [
        {
          "output_type": "stream",
          "name": "stdout",
          "text": [
            "SHRINIWAS AMBAD\n",
            "shriniwas ambad\n",
            "sHRINIWAS aMBAD\n",
            "Shriniwas Ambad\n",
            "Shriniwas ambad\n"
          ]
        }
      ]
    },
    {
      "cell_type": "markdown",
      "source": [
        "## **Checking Starting and Ending Part of the String:**\n",
        "\n",
        "Python contains the following methods for this purpose.\n",
        "\n",
        "s.startswith(substring)\n",
        "\n",
        "s.endswith(substring)"
      ],
      "metadata": {
        "id": "n30mf-IuMQz6"
      }
    },
    {
      "cell_type": "code",
      "source": [
        "a = 'Shriniwas Ambad'\n",
        "print (a.startswith('Shri'))\n",
        "print (a.endswith('a'))"
      ],
      "metadata": {
        "colab": {
          "base_uri": "https://localhost:8080/"
        },
        "id": "R46trR7nMU23",
        "outputId": "265b9a8f-a54e-4208-e54d-a7fe3660e9bd"
      },
      "execution_count": 15,
      "outputs": [
        {
          "output_type": "stream",
          "name": "stdout",
          "text": [
            "True\n",
            "False\n"
          ]
        }
      ]
    },
    {
      "cell_type": "markdown",
      "source": [
        "## **To Check Type of Characters Present in a String:**\n",
        "\n",
        "Python contains the following methods for this purpose.\n",
        "\n",
        "isalnum(): Returns True if all characters are alphanumeric( a to z , A to Z ,0 to9 ). \n",
        "  \n",
        "    It it true even if one of the case passes Ex only String or Only number\n",
        "\n",
        "isalpha(): Returns True if all characters are only alphabet symbols(a to z,A to Z)\n",
        "\n",
        "isdigit(): Returns True if all characters are digits only( 0 to 9)\n",
        "\n",
        "islower(): Returns True if all characters are lower case alphabet symbols\n",
        "\n",
        "isupper(): Returns True if all characters are upper case aplhabet symbols\n",
        "\n",
        "istitle(): Returns True if string is in title case\n",
        "\n",
        "isspace(): Returns True if string contains only spaces"
      ],
      "metadata": {
        "id": "neSUXr7aNeTC"
      }
    },
    {
      "cell_type": "code",
      "source": [
        "# checks whether it is \n",
        "print('shri123'.isalnum())\n",
        "\n",
        "print('hjfgd'.isalpha())\n",
        "\n",
        "print('shri'.isalnum())\n",
        "print('123'.isalnum())\n",
        "\n",
        "print('123'.isalpha())\n",
        "\n",
        "print('1234'.isdigit())\n",
        "print('2'.isdigit())\n",
        "\n",
        "print('SHRI'.islower())\n",
        "print('shri'.islower())\n",
        "print('SHRI'.isupper())\n",
        "print('shri'.isupper())\n",
        "\n",
        "print('shriniwas Ambad'.istitle())\n",
        "print('Shriniwas Ambad'.istitle())\n",
        "print('Shriniwas ambad'.istitle())\n",
        "\n",
        "print ('     '.isspace())"
      ],
      "metadata": {
        "colab": {
          "base_uri": "https://localhost:8080/"
        },
        "id": "GquTEpPIOK7Y",
        "outputId": "7b255491-222f-4474-d69b-aff22961ee6f"
      },
      "execution_count": 24,
      "outputs": [
        {
          "output_type": "stream",
          "name": "stdout",
          "text": [
            "True\n",
            "True\n",
            "True\n",
            "True\n",
            "False\n",
            "True\n",
            "True\n",
            "False\n",
            "True\n",
            "True\n",
            "False\n",
            "False\n",
            "True\n",
            "False\n",
            "True\n"
          ]
        }
      ]
    },
    {
      "cell_type": "markdown",
      "source": [
        "### **Formatting the Strings:**\n",
        "\n",
        "We can format the strings with variable values by using replacement operator {} and format() method."
      ],
      "metadata": {
        "id": "H5GTp0HPRVoy"
      }
    },
    {
      "cell_type": "code",
      "source": [
        "a = 'shri'\n",
        "b = 'niwas'\n",
        "c = 'ambad'\n",
        "\n",
        "print ('{} is his first name, {} is middle name, {} is last name'.format(a, b, c))\n",
        "print ('{1} is his first name, {2} is middle name, {0} is last name'.format(a, b, c))\n",
        "print ('{z} is his first name, {x} is middle name, {y} is last name'.format(x = a, y = b,z =  c))"
      ],
      "metadata": {
        "colab": {
          "base_uri": "https://localhost:8080/"
        },
        "id": "wC-2dftDRbhg",
        "outputId": "6faf8d74-14ba-4ed4-930b-b5b421b47b10"
      },
      "execution_count": 25,
      "outputs": [
        {
          "output_type": "stream",
          "name": "stdout",
          "text": [
            "shri is his first name, niwas is middle name, ambad is last name\n",
            "niwas is his first name, ambad is middle name, shri is last name\n",
            "ambad is his first name, shri is middle name, niwas is last name\n"
          ]
        }
      ]
    },
    {
      "cell_type": "markdown",
      "source": [
        "**Write a program to reverse a string**"
      ],
      "metadata": {
        "id": "bqx9AwIPVNr3"
      }
    },
    {
      "cell_type": "code",
      "source": [
        "a = input (\"Enter a strig : \")\n",
        "print(a[::-1])\n",
        "#print(a.reversed())\n",
        "print (''.join(reversed(a)))"
      ],
      "metadata": {
        "colab": {
          "base_uri": "https://localhost:8080/"
        },
        "id": "1db_9LCpVS3P",
        "outputId": "e3745e97-15a6-4fc4-9bd8-46f198dd0145"
      },
      "execution_count": 30,
      "outputs": [
        {
          "output_type": "stream",
          "name": "stdout",
          "text": [
            "Enter a strig : shri\n",
            "irhs\n",
            "irhs\n"
          ]
        }
      ]
    },
    {
      "cell_type": "code",
      "source": [
        "a= 'shri'\n",
        "print(''.join(reversed(a)))"
      ],
      "metadata": {
        "colab": {
          "base_uri": "https://localhost:8080/"
        },
        "id": "2p5lIV9LVstO",
        "outputId": "a8c978d1-1b9f-41b9-d61e-0645b80f932f"
      },
      "execution_count": 2,
      "outputs": [
        {
          "output_type": "stream",
          "name": "stdout",
          "text": [
            "irhs\n"
          ]
        }
      ]
    },
    {
      "cell_type": "markdown",
      "source": [
        "###**Program to Reverse Order of Words**# \n",
        "\n",
        "Input: Learning Python is very Easy\n",
        "\n",
        "Output: Easy Very is Python Learning"
      ],
      "metadata": {
        "id": "61xDSBdYV_tw"
      }
    },
    {
      "cell_type": "code",
      "source": [
        "a = \"Learning Python is very Easy\"\n",
        "c= a.split()\n",
        "i = len(c)-1\n",
        "\n",
        "while i>=0:\n",
        "  print (c[i],end=' ')\n",
        "  i-=1"
      ],
      "metadata": {
        "colab": {
          "base_uri": "https://localhost:8080/"
        },
        "id": "tC-jWfPsWHrK",
        "outputId": "d37a2fa0-4734-4d5f-bff4-1edeed3639ce"
      },
      "execution_count": 19,
      "outputs": [
        {
          "output_type": "stream",
          "name": "stdout",
          "text": [
            "Easy very is Python Learning "
          ]
        }
      ]
    },
    {
      "cell_type": "markdown",
      "source": [
        "**Write a Program to Remove Duplicate Characters from the given Input String?**\n",
        "\n",
        "Input: ABCDABBCDABBBCCCDDEEEF\n",
        "\n",
        "Output: ABCDEF"
      ],
      "metadata": {
        "id": "ZbpnqV2XbDx5"
      }
    },
    {
      "cell_type": "code",
      "source": [
        "stri = 'ABCDABBCDABBBCCCDDEEEF'\n",
        "l = []\n",
        "for i in stri:\n",
        "  if i not in l:\n",
        "    l.append(i)\n",
        "\n",
        "print (l)   \n",
        "print(''.join(l)) \n"
      ],
      "metadata": {
        "colab": {
          "base_uri": "https://localhost:8080/"
        },
        "id": "4GhAXk4qbIIq",
        "outputId": "0f123d47-f51e-4538-ee1e-282ccb560fe7"
      },
      "execution_count": 25,
      "outputs": [
        {
          "output_type": "stream",
          "name": "stdout",
          "text": [
            "['A', 'B', 'C', 'D', 'E', 'F']\n",
            "ABCDEF\n"
          ]
        }
      ]
    },
    {
      "cell_type": "markdown",
      "source": [
        "**Write a Program to find the Number of Occurrences of each Character present in the given String?**\n",
        "\n",
        "Input: ABCABCABBCDE\n",
        "\n",
        "Output: A-3,B-4,C-3,D-1,E-1"
      ],
      "metadata": {
        "id": "DwnO0mtAeHxg"
      }
    },
    {
      "cell_type": "code",
      "source": [
        "s = 'ABCABCABBCDE'\n",
        "num = 1\n",
        "d = {}\n",
        "\n",
        "for x in s:\n",
        "  if x in d.keys():\n",
        "    d[x] += 1\n",
        "  else:\n",
        "    d[x]=1 \n",
        "print (d)\n",
        "for k,v in d.items():\n",
        "       print( \"{} = {} times\".format(k,v))\n"
      ],
      "metadata": {
        "colab": {
          "base_uri": "https://localhost:8080/"
        },
        "id": "EMmHJPmoeLp1",
        "outputId": "ad526f82-5cd2-4926-9cf7-fac4fc4af965"
      },
      "execution_count": 27,
      "outputs": [
        {
          "output_type": "stream",
          "name": "stdout",
          "text": [
            "{'A': 3, 'B': 4, 'C': 3, 'D': 1, 'E': 1}\n",
            "A = 3 times\n",
            "B = 4 times\n",
            "C = 3 times\n",
            "D = 1 times\n",
            "E = 1 times\n"
          ]
        }
      ]
    }
  ]
}