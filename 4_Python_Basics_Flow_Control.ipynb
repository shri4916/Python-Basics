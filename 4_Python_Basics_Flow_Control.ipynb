{
  "nbformat": 4,
  "nbformat_minor": 0,
  "metadata": {
    "colab": {
      "name": "4_Python_Basics_Flow_Control.ipynb",
      "provenance": [],
      "collapsed_sections": [],
      "authorship_tag": "ABX9TyNVe2MA7rsmEQK2rP0/btol",
      "include_colab_link": true
    },
    "kernelspec": {
      "name": "python3",
      "display_name": "Python 3"
    },
    "language_info": {
      "name": "python"
    }
  },
  "cells": [
    {
      "cell_type": "markdown",
      "metadata": {
        "id": "view-in-github",
        "colab_type": "text"
      },
      "source": [
        "<a href=\"https://colab.research.google.com/github/shri4916/Python-Basics/blob/main/4_Python_Basics_Flow_Control.ipynb\" target=\"_parent\"><img src=\"https://colab.research.google.com/assets/colab-badge.svg\" alt=\"Open In Colab\"/></a>"
      ]
    },
    {
      "cell_type": "markdown",
      "source": [
        "\n",
        "#**Control Flow**\n",
        "---\n",
        "\n"
      ],
      "metadata": {
        "id": "kpl3VrlHeN2T"
      }
    },
    {
      "cell_type": "markdown",
      "source": [
        "##**Conditional statment**\n",
        "\n",
        "1) If\n",
        "\n",
        "2) If elif\n",
        "\n",
        "3) If elif else"
      ],
      "metadata": {
        "id": "XFvbTAhRecLI"
      }
    },
    {
      "cell_type": "code",
      "execution_count": 6,
      "metadata": {
        "colab": {
          "base_uri": "https://localhost:8080/"
        },
        "id": "8g2uMEMReE3u",
        "outputId": "237ce6eb-20b2-4627-9790-f239b0ad3f5b"
      },
      "outputs": [
        {
          "output_type": "stream",
          "name": "stdout",
          "text": [
            "EnterNumber:10\n",
            "The number entered is  10\n"
          ]
        }
      ],
      "source": [
        "number=input(\"EnterNumber:\")\n",
        "if number == \"10\":\n",
        "  print(\"The number entered is \",number)"
      ]
    },
    {
      "cell_type": "code",
      "source": [
        "name=input(\"EnterName:\")\n",
        "if name==\"Shri\":\n",
        "  print(\"Hello Shri Good Morning\")\n",
        "  print(\"Howareyou!!!\")"
      ],
      "metadata": {
        "colab": {
          "base_uri": "https://localhost:8080/"
        },
        "id": "UmoAb3DHlCSI",
        "outputId": "2ab6e53d-ce9f-45e4-d5d9-fd1f3d52f982"
      },
      "execution_count": 5,
      "outputs": [
        {
          "output_type": "stream",
          "name": "stdout",
          "text": [
            "EnterName:Shri\n",
            "Hello Rajesh Good Morning\n",
            "Howareyou!!!\n"
          ]
        }
      ]
    },
    {
      "cell_type": "markdown",
      "source": [
        "##**Else**\n",
        "\n",
        "else part is always optional. Hence the following are various possible syntaxes.\n",
        "\n",
        "1) if\n",
        "\n",
        "2) if - else\n",
        "\n",
        "3) if - elif - else\n",
        "\n",
        "4) if - elif"
      ],
      "metadata": {
        "id": "pu1EA0wlmorI"
      }
    },
    {
      "cell_type": "code",
      "source": [
        "#Write a program to find biggest number of 2 hardcoded values \n",
        "\n",
        "a = int(input(\"Enter first value :\"))\n",
        "b = int(input(\"Enter second value :\"))\n",
        "\n",
        "if a>b:\n",
        "  print(\"Biggest number is : \",a)\n",
        "else:\n",
        "  print(\"Biggest number is : \",b)\n"
      ],
      "metadata": {
        "colab": {
          "base_uri": "https://localhost:8080/"
        },
        "id": "Z__LWLIRmAOd",
        "outputId": "e8f81fe2-81a3-4c3d-e89c-ecdab0384324"
      },
      "execution_count": 7,
      "outputs": [
        {
          "output_type": "stream",
          "name": "stdout",
          "text": [
            "Enter first value :7\n",
            "Enter second value :6\n",
            "Biggest number is :  7\n"
          ]
        }
      ]
    },
    {
      "cell_type": "markdown",
      "source": [
        "# **Homework**\n",
        "\n",
        "1) Write a Program to find Biggest of given 3 Numbers from the Commad Prompt?\n",
        "\n",
        "2) Write a program to find smallest of given 2 numbers?\n",
        "\n",
        "3) Write a program to find smallest of given 3 numbers?\n",
        "\n",
        "4) Write a program to check whether the given number is even or odd?"
      ],
      "metadata": {
        "id": "EdiRlSSwo7cM"
      }
    },
    {
      "cell_type": "code",
      "source": [
        "# Write a Program to find Biggest of given 3 Numbers from the Commad Prompt\n",
        "\n",
        "a = int(input(\"Enter first value :\"))\n",
        "b = int(input(\"Enter second value :\"))\n",
        "c = int(input(\"Enter third value :\"))\n",
        "\n",
        "if a>b and a>c:\n",
        "  print(\"Biggest number is : \",a)\n",
        "elif b>c:\n",
        "  print(\"Biggest number is : \",b)\n",
        "else:\n",
        "  print(\"Biggest number is : \",c)\n"
      ],
      "metadata": {
        "colab": {
          "base_uri": "https://localhost:8080/"
        },
        "id": "pbt7tAgYn1X3",
        "outputId": "79035ba4-53d2-4619-cdba-cd6f33807038"
      },
      "execution_count": 8,
      "outputs": [
        {
          "output_type": "stream",
          "name": "stdout",
          "text": [
            "Enter first value :5\n",
            "Enter second value :7\n",
            "Enter third value :4\n",
            "Biggest number is :  7\n"
          ]
        }
      ]
    },
    {
      "cell_type": "code",
      "source": [
        "# Write a program to find smallest of given 2 numbers\n",
        "\n",
        "a = int(input(\"Enter first value :\"))\n",
        "b = int(input(\"Enter second value :\"))\n",
        "\n",
        "if a<b:\n",
        "  print(\"Smallest number is : \",a)\n",
        "else:\n",
        "  print(\"Smallest number is : \",b)\n"
      ],
      "metadata": {
        "colab": {
          "base_uri": "https://localhost:8080/"
        },
        "id": "TlC4L4lNpflp",
        "outputId": "1875147d-372e-4856-da54-281c51f700d3"
      },
      "execution_count": 9,
      "outputs": [
        {
          "output_type": "stream",
          "name": "stdout",
          "text": [
            "Enter first value :7\n",
            "Enter second value :5\n",
            "Smallest number is :  5\n"
          ]
        }
      ]
    },
    {
      "cell_type": "code",
      "source": [
        "# Write a Program to find Smallest of given 3 Numbers from the Commad Prompt\n",
        "\n",
        "a = int(input(\"Enter first value :\"))\n",
        "b = int(input(\"Enter second value :\"))\n",
        "c = int(input(\"Enter third value :\"))\n",
        "\n",
        "if a<b and a<c:\n",
        "  print(\"Smallest number is : \",a)\n",
        "elif b<c:\n",
        "  print(\"Smallest number is : \",b)\n",
        "else:\n",
        "  print(\"Smallest number is : \",c)"
      ],
      "metadata": {
        "colab": {
          "base_uri": "https://localhost:8080/"
        },
        "id": "pMa9mkq4p70f",
        "outputId": "abfc6a7a-8e01-4079-d876-7ba67f5e62d7"
      },
      "execution_count": 10,
      "outputs": [
        {
          "output_type": "stream",
          "name": "stdout",
          "text": [
            "Enter first value :8\n",
            "Enter second value :6\n",
            "Enter third value :9\n",
            "Smallest number is :  6\n"
          ]
        }
      ]
    },
    {
      "cell_type": "code",
      "source": [
        "# Write a program to check whether the given number is even or odd\n",
        "\n",
        "a = int(input(\"Enter first value :\"))\n",
        "\n",
        "if a%2 ==0:\n",
        "  print (\"It is even number\")\n",
        "else :\n",
        "  print(\"It is odd number\")"
      ],
      "metadata": {
        "colab": {
          "base_uri": "https://localhost:8080/"
        },
        "id": "ZzdbVbS8qOML",
        "outputId": "08e6ad31-220b-423d-f376-d9999a941dbd"
      },
      "execution_count": 11,
      "outputs": [
        {
          "output_type": "stream",
          "name": "stdout",
          "text": [
            "Enter first value :7\n",
            "It is odd number\n"
          ]
        }
      ]
    },
    {
      "cell_type": "markdown",
      "source": [
        "# **Iterative Statements:**\n",
        "If we want to execute a group of statements multiple times then we should go for Iterative statements.\n",
        "\n",
        "Python supports 2 types of iterative statements.\n",
        "\n",
        "1) for loop\n",
        "\n",
        "2) while loop\n",
        "\n"
      ],
      "metadata": {
        "id": "EMTUdk0RrcsN"
      }
    },
    {
      "cell_type": "markdown",
      "source": [
        "# **for loop:**\n",
        "\n",
        "If we want to execute some action for every element present in some sequence (it may be string or collection) then we should go for for loop."
      ],
      "metadata": {
        "id": "nNe1kvq1rn20"
      }
    },
    {
      "cell_type": "code",
      "source": [
        "A = \"Shriniwas\"\n",
        "\n",
        "for x in A:\n",
        "  print (x)"
      ],
      "metadata": {
        "colab": {
          "base_uri": "https://localhost:8080/"
        },
        "id": "W-VFPW9dqvky",
        "outputId": "622043eb-7232-497c-eae7-2c38ed054b01"
      },
      "execution_count": 13,
      "outputs": [
        {
          "output_type": "stream",
          "name": "stdout",
          "text": [
            "S\n",
            "h\n",
            "r\n",
            "i\n",
            "n\n",
            "i\n",
            "w\n",
            "a\n",
            "s\n"
          ]
        }
      ]
    },
    {
      "cell_type": "code",
      "source": [
        "A = \"Shriniwas\"\n",
        "\n",
        "for x in A:\n",
        "  print (A)"
      ],
      "metadata": {
        "colab": {
          "base_uri": "https://localhost:8080/"
        },
        "id": "_uE0WXNUr3dM",
        "outputId": "807bebc8-10e2-491b-9238-b412d63ad035"
      },
      "execution_count": 14,
      "outputs": [
        {
          "output_type": "stream",
          "name": "stdout",
          "text": [
            "Shriniwas\n",
            "Shriniwas\n",
            "Shriniwas\n",
            "Shriniwas\n",
            "Shriniwas\n",
            "Shriniwas\n",
            "Shriniwas\n",
            "Shriniwas\n",
            "Shriniwas\n"
          ]
        }
      ]
    },
    {
      "cell_type": "code",
      "source": [
        "for x in range(5):\n",
        "  print (x)"
      ],
      "metadata": {
        "colab": {
          "base_uri": "https://localhost:8080/"
        },
        "id": "MSqfxz2hsHSh",
        "outputId": "ef58d8b1-fc4c-4e84-8180-fbd5154a4ba6"
      },
      "execution_count": 16,
      "outputs": [
        {
          "output_type": "stream",
          "name": "stdout",
          "text": [
            "0\n",
            "1\n",
            "2\n",
            "3\n",
            "4\n"
          ]
        }
      ]
    },
    {
      "cell_type": "code",
      "source": [
        "# Write program to print even values till end of range\n",
        "for x in range(35):\n",
        "  if x%2 == 0:\n",
        "    print (x)"
      ],
      "metadata": {
        "colab": {
          "base_uri": "https://localhost:8080/"
        },
        "id": "Wi725xUcsQ1a",
        "outputId": "f7424c1e-3e77-4570-b8a9-180f22c503df"
      },
      "execution_count": 17,
      "outputs": [
        {
          "output_type": "stream",
          "name": "stdout",
          "text": [
            "0\n",
            "2\n",
            "4\n",
            "6\n",
            "8\n",
            "10\n",
            "12\n",
            "14\n",
            "16\n",
            "18\n",
            "20\n",
            "22\n",
            "24\n",
            "26\n",
            "28\n",
            "30\n",
            "32\n",
            "34\n"
          ]
        }
      ]
    },
    {
      "cell_type": "code",
      "source": [
        "# Write program to print Odd values till end of range\n",
        "for x in range(15):\n",
        "  if x%2 != 0:\n",
        "    print (x)"
      ],
      "metadata": {
        "colab": {
          "base_uri": "https://localhost:8080/"
        },
        "id": "uuyfaSIgsuAv",
        "outputId": "eec9fe9c-0935-4a30-b8a8-3cda944bf1c7"
      },
      "execution_count": 18,
      "outputs": [
        {
          "output_type": "stream",
          "name": "stdout",
          "text": [
            "1\n",
            "3\n",
            "5\n",
            "7\n",
            "9\n",
            "11\n",
            "13\n"
          ]
        }
      ]
    },
    {
      "cell_type": "code",
      "source": [
        "# Write a program to display range in reverse \n",
        "\n",
        "for x in range(15,0,-1):\n",
        "  print(x)"
      ],
      "metadata": {
        "colab": {
          "base_uri": "https://localhost:8080/"
        },
        "id": "4FZSdx11tA1K",
        "outputId": "ab21e977-6224-497a-82eb-1fa6c5ac9b1e"
      },
      "execution_count": 20,
      "outputs": [
        {
          "output_type": "stream",
          "name": "stdout",
          "text": [
            "15\n",
            "14\n",
            "13\n",
            "12\n",
            "11\n",
            "10\n",
            "9\n",
            "8\n",
            "7\n",
            "6\n",
            "5\n",
            "4\n",
            "3\n",
            "2\n",
            "1\n"
          ]
        }
      ]
    },
    {
      "cell_type": "code",
      "source": [
        "# Write a program to display range in reverse with 2 itrations from 20 - 1\n",
        "\n",
        "for x in range(20,0,-2):\n",
        "  print(x)"
      ],
      "metadata": {
        "colab": {
          "base_uri": "https://localhost:8080/"
        },
        "id": "UFfbTfD0tRPw",
        "outputId": "dda9b874-a824-4050-d44c-9a3fa55f2ef4"
      },
      "execution_count": 21,
      "outputs": [
        {
          "output_type": "stream",
          "name": "stdout",
          "text": [
            "20\n",
            "18\n",
            "16\n",
            "14\n",
            "12\n",
            "10\n",
            "8\n",
            "6\n",
            "4\n",
            "2\n"
          ]
        }
      ]
    },
    {
      "cell_type": "code",
      "source": [
        "# To print sum of numbers presenst inside list\n",
        "sum = 0\n",
        "for x in range(7):\n",
        " sum+=x\n",
        "print(\"Sum of all the numbers is : \",sum)"
      ],
      "metadata": {
        "colab": {
          "base_uri": "https://localhost:8080/"
        },
        "id": "1nToUAG9tddo",
        "outputId": "ae1afc96-55b2-4ef7-9345-5430ac873d56"
      },
      "execution_count": 25,
      "outputs": [
        {
          "output_type": "stream",
          "name": "stdout",
          "text": [
            "Sum of all the numbers is :  21\n"
          ]
        }
      ]
    },
    {
      "cell_type": "markdown",
      "source": [
        "# **While Loop**\n",
        "If we want to execute a group of statements iteratively until some condition become false,then we should go for while loop."
      ],
      "metadata": {
        "id": "TxOquymUuRoY"
      }
    },
    {
      "cell_type": "code",
      "source": [
        "# To print numbers from 1 to 10 by using while loop\n",
        "\n",
        "x = 1\n",
        "while x <= 10:\n",
        "  print (x)\n",
        "  x+=1"
      ],
      "metadata": {
        "colab": {
          "base_uri": "https://localhost:8080/"
        },
        "id": "gN1wxJFAt0eN",
        "outputId": "e2eba835-7b27-44e1-f951-c3f9c2a9ce82"
      },
      "execution_count": 26,
      "outputs": [
        {
          "output_type": "stream",
          "name": "stdout",
          "text": [
            "1\n",
            "2\n",
            "3\n",
            "4\n",
            "5\n",
            "6\n",
            "7\n",
            "8\n",
            "9\n",
            "10\n"
          ]
        }
      ]
    },
    {
      "cell_type": "code",
      "source": [
        "# To display the sum of first n numbers\n",
        "\n",
        "a = int (input(\"Enter number :\"))\n",
        "sum = 0\n",
        "x = 1\n",
        "\n",
        "while x<= a:\n",
        "  sum += x\n",
        "  x+= 1\n",
        "print (\"Sum of all the numbers is : \",sum)  "
      ],
      "metadata": {
        "colab": {
          "base_uri": "https://localhost:8080/"
        },
        "id": "dGKs1SoYumAU",
        "outputId": "97409ad1-626a-4158-c35a-6a2f7b54dc00"
      },
      "execution_count": 32,
      "outputs": [
        {
          "output_type": "stream",
          "name": "stdout",
          "text": [
            "Enter number :7\n",
            "Sum of all the numbers is :  28\n"
          ]
        }
      ]
    },
    {
      "cell_type": "markdown",
      "source": [
        "## **Infinite loop**\n",
        "\n",
        "When the condition remains true for all the time, the loops keeps exicuting again and again. this is an dangerous situation. \n",
        "\n",
        "It fill our storage \"Stack\" and couse \"Stack overflow\" error"
      ],
      "metadata": {
        "id": "ASt2PLxRxdVs"
      }
    },
    {
      "cell_type": "code",
      "source": [
        "while True:\n",
        "  print(\"1\")"
      ],
      "metadata": {
        "id": "EXnXDcZJwRIB"
      },
      "execution_count": null,
      "outputs": []
    },
    {
      "cell_type": "markdown",
      "source": [
        "# **Nested Loop**\n",
        "\n",
        "It is used to exicute loop inside loop"
      ],
      "metadata": {
        "id": "4hcEaWPGzA8T"
      }
    },
    {
      "cell_type": "code",
      "source": [
        "for i in range(3):\n",
        "    for j in range(3):\n",
        "      print(i,j)"
      ],
      "metadata": {
        "colab": {
          "base_uri": "https://localhost:8080/"
        },
        "id": "2UNc8gWPzG8O",
        "outputId": "33827661-0212-44e7-86c3-12e7f3ccb7ab"
      },
      "execution_count": 34,
      "outputs": [
        {
          "output_type": "stream",
          "name": "stdout",
          "text": [
            "0 0\n",
            "0 1\n",
            "0 2\n",
            "1 0\n",
            "1 1\n",
            "1 2\n",
            "2 0\n",
            "2 1\n",
            "2 2\n"
          ]
        }
      ]
    },
    {
      "cell_type": "markdown",
      "source": [
        "## **Homework**\n",
        "\n",
        "Write a Program to dispaly *'s in Right Angled Triangled Form\n",
        "\n",
        "Lets exicute it using Nester for loop"
      ],
      "metadata": {
        "id": "uJgum-J0zqe3"
      }
    },
    {
      "cell_type": "code",
      "source": [
        "for i in range(6):\n",
        "    for j in range(i):\n",
        "      print(\"*\",end=\"\")\n",
        "    print()"
      ],
      "metadata": {
        "colab": {
          "base_uri": "https://localhost:8080/"
        },
        "id": "l_aidtNkzyIc",
        "outputId": "d635c649-0243-4dc5-9fe6-47ffe6a94e5e"
      },
      "execution_count": 47,
      "outputs": [
        {
          "output_type": "stream",
          "name": "stdout",
          "text": [
            "\n",
            "*\n",
            "**\n",
            "***\n",
            "****\n",
            "*****\n"
          ]
        }
      ]
    },
    {
      "cell_type": "markdown",
      "source": [
        "## **Transfer statment**\n",
        "\n",
        "### break:\n",
        "We can use break statement inside loops to break loop execution based on some condition."
      ],
      "metadata": {
        "id": "Tk_gOTrP28qT"
      }
    },
    {
      "cell_type": "code",
      "source": [
        " for i in range (7):\n",
        "  if i==4:\n",
        "    print (\"Breaking the look at :\", i)\n",
        "    break\n",
        "  print (i)"
      ],
      "metadata": {
        "colab": {
          "base_uri": "https://localhost:8080/"
        },
        "id": "5AaR9iJb3F3f",
        "outputId": "1af4e3a2-9980-4064-c239-939fac5ffa94"
      },
      "execution_count": 50,
      "outputs": [
        {
          "output_type": "stream",
          "name": "stdout",
          "text": [
            "0\n",
            "1\n",
            "2\n",
            "3\n",
            "Breaking the look at : 4\n"
          ]
        }
      ]
    }
  ]
}